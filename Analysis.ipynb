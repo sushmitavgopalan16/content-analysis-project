{
 "cells": [
  {
   "cell_type": "code",
   "execution_count": 163,
   "metadata": {},
   "outputs": [],
   "source": [
    "import pandas as pd\n",
    "import numpy as np\n",
    "import requests\n",
    "from bs4 import BeautifulSoup\n",
    "from urllib.request import urlopen\n",
    "import re\n",
    "import time\n",
    "import warnings\n",
    "from wordcloud import WordCloud\n",
    "%matplotlib inline\n",
    "from PIL import Image\n",
    "import numpy as np\n",
    "import matplotlib.pyplot as plt\n",
    "import seaborn as sns\n",
    "warnings.filterwarnings('ignore')\n",
    "\n",
    "import nltk\n",
    "from nltk.corpus import stopwords\n",
    "from nltk.tokenize import word_tokenize\n",
    "from nltk.corpus import stopwords\n",
    "import lucem_illud\n",
    "\n"
   ]
  },
  {
   "cell_type": "code",
   "execution_count": 164,
   "metadata": {},
   "outputs": [],
   "source": [
    "def get_text(url):\n",
    "    p = urlopen(url)\n",
    "    s = BeautifulSoup(p)\n",
    "    r = requests.get(url)\n",
    "    soup = BeautifulSoup(r.text, 'lxml')\n",
    "    a = len(soup.find_all('p'))\n",
    "    text = \"\"\n",
    "    for i in range(0, a):\n",
    "        text = text + soup.find_all('p')[i].text + \" \"\n",
    "        text = text.replace(\"\\n\",\" \")\n",
    "    return text\n",
    "\n",
    "def get_links(url):\n",
    "    page = urlopen(url)\n",
    "    soup = BeautifulSoup(page)\n",
    "    links = []\n",
    "    for link in soup.findAll('a', attrs={'href': re.compile(\"^http://\")}):\n",
    "        links.append(link.get('href'))\n",
    "    return links\n",
    "\n",
    "def get_story_url(search_string):\n",
    "    page = requests.get(search_string)\n",
    "    soup = BeautifulSoup(page.content)\n",
    "    links = soup.findAll(\"a\")\n",
    "    results = []\n",
    "    for link in  soup.find_all(\"a\",href=re.compile(\"(?<=/url\\?q=)(htt.*://.*)\")):\n",
    "        whole_thing = re.split(\":(?=http)\",link[\"href\"].replace(\"/url?q=\",\"\"))\n",
    "        results.append(whole_thing[0].split('&')[0])\n",
    "    rv = []\n",
    "    for result in results:\n",
    "        if \"www.vanityfair.com\" in result:\n",
    "            rv.append(result)\n",
    "    return rv\n",
    "\n",
    "def get_details(url, data):\n",
    "    p = urlopen(url)\n",
    "    s = BeautifulSoup(p)\n",
    "    img_tags = s.find_all('img')\n",
    "    t = s.find_all('script', type=\"application/ld+json\")\n",
    "    d = eval(t[0].contents[0])\n",
    "    \n",
    "    if url == \"https://www.vanityfair.com/hollywood/2014/06/shailene-woodley-cover\":\n",
    "        author = \"Krista Smith\"\n",
    "    else:\n",
    "        author = d['creator'][0][0]\n",
    "    try:\n",
    "        photographer = d['creator'][0][1]\n",
    "    except:\n",
    "        pass\n",
    "    try:\n",
    "        stylist = d['creator'][0][2]\n",
    "    except:\n",
    "        pass\n",
    "    date = d['dateCreated']\n",
    "    tags = d['keywords']\n",
    "    headline = d['headline']\n",
    "    text = get_text(url)    \n",
    "    try:\n",
    "        data['author'].append(author)\n",
    "    except:\n",
    "        data['author'].append(\" \")\n",
    "\n",
    "\n",
    "    try:\n",
    "        data['photographer'].append(photographer)\n",
    "    except:\n",
    "        data['photographer'].append(\" \")\n",
    "\n",
    "    try:\n",
    "        data['stylist'].append(stylist)\n",
    "    except:\n",
    "        data['stylist'].append(\"\")\n",
    "    data['date'].append(date)\n",
    "    data['tags'].append(tags)\n",
    "    data['headline'].append(headline)\n",
    "    data['text'].append(text)\n",
    "    data['url'] = url\n",
    "\n",
    "    return data"
   ]
  },
  {
   "cell_type": "code",
   "execution_count": 18,
   "metadata": {},
   "outputs": [],
   "source": [
    "vf_links_full = pd.read_csv(\"data/vanity fair links.csv\")\n",
    "vf_links = vf_links_full[:58]"
   ]
  },
  {
   "cell_type": "code",
   "execution_count": 20,
   "metadata": {},
   "outputs": [
    {
     "name": "stdout",
     "output_type": "stream",
     "text": [
      "CPU times: user 13.7 s, sys: 728 ms, total: 14.5 s\n",
      "Wall time: 54.2 s\n"
     ]
    }
   ],
   "source": [
    "%%time\n",
    "data = {'author': [], 'photographer': [], 'stylist': [], 'date': [],\n",
    "       'tags': [], 'headline': [], 'text': [], 'url': []}\n",
    "\n",
    "for url in vf_links['url'].tolist():\n",
    "    get_details(url,data)"
   ]
  },
  {
   "cell_type": "code",
   "execution_count": 26,
   "metadata": {},
   "outputs": [],
   "source": [
    "data_frame = pd.DataFrame(data)"
   ]
  },
  {
   "cell_type": "code",
   "execution_count": 54,
   "metadata": {},
   "outputs": [
    {
     "data": {
      "text/plain": [
       "True"
      ]
     },
     "execution_count": 54,
     "metadata": {},
     "output_type": "execute_result"
    }
   ],
   "source": [
    "len(data_frame) == len(vf_links)\n"
   ]
  },
  {
   "cell_type": "code",
   "execution_count": 55,
   "metadata": {},
   "outputs": [],
   "source": [
    "data_frame['url_check'] = vf_links['url'].tolist()\n",
    "data_frame['interviewee'] = vf_links['interviewee'].tolist()\n",
    "data_frame['celeb_gender'] = vf_links['celeb_gender'].tolist()\n",
    "df = data_frame"
   ]
  },
  {
   "cell_type": "code",
   "execution_count": 183,
   "metadata": {},
   "outputs": [],
   "source": [
    "male_authors = [\"Alec Baldwin\",\"Bruce Handy\",\"Buzz Bissinger\",\"David Kamp\",\"Derek Blasberg\",\"James Fox\",\n",
    "\"James Wolcott\", \"Jim Windolf\", \"Josh Duboff\", \"Lawrence Schiller\", \"Max Chafkin\", \n",
    "\"Michael Schulman\", \"Mitch Glazer\", \"Nell Scovell\", \"Rich Cohen\", \"Sam Kashner\", \"Todd Purdum\"]\n",
    "\n",
    "def author_gender(row):\n",
    "    global male_authors\n",
    "    if row['author'] in male_authors:\n",
    "        return 'male'\n",
    "    return 'female'\n",
    "\n",
    "def words(row):\n",
    "    return len(row['text'].split())\n",
    "df['words'] = df.apply (lambda row: words(row), axis=1 )\n",
    "df['author_gender'] = df.apply (lambda row: author_gender(row), axis=1 )"
   ]
  },
  {
   "cell_type": "code",
   "execution_count": 184,
   "metadata": {},
   "outputs": [
    {
     "data": {
      "text/html": [
       "<div>\n",
       "<style scoped>\n",
       "    .dataframe tbody tr th:only-of-type {\n",
       "        vertical-align: middle;\n",
       "    }\n",
       "\n",
       "    .dataframe tbody tr th {\n",
       "        vertical-align: top;\n",
       "    }\n",
       "\n",
       "    .dataframe thead th {\n",
       "        text-align: right;\n",
       "    }\n",
       "</style>\n",
       "<table border=\"1\" class=\"dataframe\">\n",
       "  <thead>\n",
       "    <tr style=\"text-align: right;\">\n",
       "      <th></th>\n",
       "      <th>author</th>\n",
       "      <th>date</th>\n",
       "      <th>headline</th>\n",
       "      <th>photographer</th>\n",
       "      <th>stylist</th>\n",
       "      <th>tags</th>\n",
       "      <th>text</th>\n",
       "      <th>url</th>\n",
       "      <th>url_check</th>\n",
       "      <th>interviewee</th>\n",
       "      <th>celeb_gender</th>\n",
       "      <th>year</th>\n",
       "      <th>pair</th>\n",
       "      <th>text_length</th>\n",
       "      <th>words</th>\n",
       "    </tr>\n",
       "    <tr>\n",
       "      <th>author_gender</th>\n",
       "      <th></th>\n",
       "      <th></th>\n",
       "      <th></th>\n",
       "      <th></th>\n",
       "      <th></th>\n",
       "      <th></th>\n",
       "      <th></th>\n",
       "      <th></th>\n",
       "      <th></th>\n",
       "      <th></th>\n",
       "      <th></th>\n",
       "      <th></th>\n",
       "      <th></th>\n",
       "      <th></th>\n",
       "      <th></th>\n",
       "    </tr>\n",
       "  </thead>\n",
       "  <tbody>\n",
       "    <tr>\n",
       "      <th>female</th>\n",
       "      <td>27</td>\n",
       "      <td>27</td>\n",
       "      <td>27</td>\n",
       "      <td>27</td>\n",
       "      <td>27</td>\n",
       "      <td>27</td>\n",
       "      <td>27</td>\n",
       "      <td>27</td>\n",
       "      <td>27</td>\n",
       "      <td>27</td>\n",
       "      <td>27</td>\n",
       "      <td>27</td>\n",
       "      <td>27</td>\n",
       "      <td>27</td>\n",
       "      <td>27</td>\n",
       "    </tr>\n",
       "    <tr>\n",
       "      <th>male</th>\n",
       "      <td>31</td>\n",
       "      <td>31</td>\n",
       "      <td>31</td>\n",
       "      <td>31</td>\n",
       "      <td>31</td>\n",
       "      <td>31</td>\n",
       "      <td>31</td>\n",
       "      <td>31</td>\n",
       "      <td>31</td>\n",
       "      <td>31</td>\n",
       "      <td>31</td>\n",
       "      <td>31</td>\n",
       "      <td>31</td>\n",
       "      <td>31</td>\n",
       "      <td>31</td>\n",
       "    </tr>\n",
       "  </tbody>\n",
       "</table>\n",
       "</div>"
      ],
      "text/plain": [
       "               author  date  headline  photographer  stylist  tags  text  url  \\\n",
       "author_gender                                                                   \n",
       "female             27    27        27            27       27    27    27   27   \n",
       "male               31    31        31            31       31    31    31   31   \n",
       "\n",
       "               url_check  interviewee  celeb_gender  year  pair  text_length  \\\n",
       "author_gender                                                                  \n",
       "female                27           27            27    27    27           27   \n",
       "male                  31           31            31    31    31           31   \n",
       "\n",
       "               words  \n",
       "author_gender         \n",
       "female            27  \n",
       "male              31  "
      ]
     },
     "execution_count": 184,
     "metadata": {},
     "output_type": "execute_result"
    }
   ],
   "source": [
    "df.groupby('author_gender').count()"
   ]
  },
  {
   "cell_type": "code",
   "execution_count": 167,
   "metadata": {},
   "outputs": [
    {
     "data": {
      "text/html": [
       "<div>\n",
       "<style scoped>\n",
       "    .dataframe tbody tr th:only-of-type {\n",
       "        vertical-align: middle;\n",
       "    }\n",
       "\n",
       "    .dataframe tbody tr th {\n",
       "        vertical-align: top;\n",
       "    }\n",
       "\n",
       "    .dataframe thead th {\n",
       "        text-align: right;\n",
       "    }\n",
       "</style>\n",
       "<table border=\"1\" class=\"dataframe\">\n",
       "  <thead>\n",
       "    <tr style=\"text-align: right;\">\n",
       "      <th></th>\n",
       "      <th>author</th>\n",
       "      <th>date</th>\n",
       "      <th>headline</th>\n",
       "      <th>photographer</th>\n",
       "      <th>stylist</th>\n",
       "      <th>tags</th>\n",
       "      <th>text</th>\n",
       "      <th>url</th>\n",
       "      <th>url_check</th>\n",
       "      <th>interviewee</th>\n",
       "      <th>author_gender</th>\n",
       "      <th>year</th>\n",
       "      <th>pair</th>\n",
       "    </tr>\n",
       "    <tr>\n",
       "      <th>celeb_gender</th>\n",
       "      <th></th>\n",
       "      <th></th>\n",
       "      <th></th>\n",
       "      <th></th>\n",
       "      <th></th>\n",
       "      <th></th>\n",
       "      <th></th>\n",
       "      <th></th>\n",
       "      <th></th>\n",
       "      <th></th>\n",
       "      <th></th>\n",
       "      <th></th>\n",
       "      <th></th>\n",
       "    </tr>\n",
       "  </thead>\n",
       "  <tbody>\n",
       "    <tr>\n",
       "      <th>female</th>\n",
       "      <td>40</td>\n",
       "      <td>40</td>\n",
       "      <td>40</td>\n",
       "      <td>40</td>\n",
       "      <td>40</td>\n",
       "      <td>40</td>\n",
       "      <td>40</td>\n",
       "      <td>40</td>\n",
       "      <td>40</td>\n",
       "      <td>40</td>\n",
       "      <td>40</td>\n",
       "      <td>40</td>\n",
       "      <td>40</td>\n",
       "    </tr>\n",
       "    <tr>\n",
       "      <th>male</th>\n",
       "      <td>18</td>\n",
       "      <td>18</td>\n",
       "      <td>18</td>\n",
       "      <td>18</td>\n",
       "      <td>18</td>\n",
       "      <td>18</td>\n",
       "      <td>18</td>\n",
       "      <td>18</td>\n",
       "      <td>18</td>\n",
       "      <td>18</td>\n",
       "      <td>18</td>\n",
       "      <td>18</td>\n",
       "      <td>18</td>\n",
       "    </tr>\n",
       "  </tbody>\n",
       "</table>\n",
       "</div>"
      ],
      "text/plain": [
       "              author  date  headline  photographer  stylist  tags  text  url  \\\n",
       "celeb_gender                                                                   \n",
       "female            40    40        40            40       40    40    40   40   \n",
       "male              18    18        18            18       18    18    18   18   \n",
       "\n",
       "              url_check  interviewee  author_gender  year  pair  \n",
       "celeb_gender                                                     \n",
       "female               40           40             40    40    40  \n",
       "male                 18           18             18    18    18  "
      ]
     },
     "execution_count": 167,
     "metadata": {},
     "output_type": "execute_result"
    }
   ],
   "source": [
    "df.groupby('celeb_gender').count()"
   ]
  },
  {
   "cell_type": "code",
   "execution_count": 172,
   "metadata": {},
   "outputs": [
    {
     "data": {
      "text/html": [
       "<div>\n",
       "<style scoped>\n",
       "    .dataframe tbody tr th:only-of-type {\n",
       "        vertical-align: middle;\n",
       "    }\n",
       "\n",
       "    .dataframe tbody tr th {\n",
       "        vertical-align: top;\n",
       "    }\n",
       "\n",
       "    .dataframe thead th {\n",
       "        text-align: right;\n",
       "    }\n",
       "</style>\n",
       "<table border=\"1\" class=\"dataframe\">\n",
       "  <thead>\n",
       "    <tr style=\"text-align: right;\">\n",
       "      <th>celeb_gender</th>\n",
       "      <th>female</th>\n",
       "      <th>male</th>\n",
       "    </tr>\n",
       "    <tr>\n",
       "      <th>author_gender</th>\n",
       "      <th></th>\n",
       "      <th></th>\n",
       "    </tr>\n",
       "  </thead>\n",
       "  <tbody>\n",
       "    <tr>\n",
       "      <th>female</th>\n",
       "      <td>22</td>\n",
       "      <td>5</td>\n",
       "    </tr>\n",
       "    <tr>\n",
       "      <th>male</th>\n",
       "      <td>18</td>\n",
       "      <td>13</td>\n",
       "    </tr>\n",
       "  </tbody>\n",
       "</table>\n",
       "</div>"
      ],
      "text/plain": [
       "celeb_gender   female  male\n",
       "author_gender              \n",
       "female             22     5\n",
       "male               18    13"
      ]
     },
     "execution_count": 172,
     "metadata": {},
     "output_type": "execute_result"
    }
   ],
   "source": [
    "pd.crosstab(df.author_gender, df.celeb_gender)"
   ]
  },
  {
   "cell_type": "code",
   "execution_count": 173,
   "metadata": {},
   "outputs": [
    {
     "data": {
      "text/html": [
       "<div>\n",
       "<style scoped>\n",
       "    .dataframe tbody tr th:only-of-type {\n",
       "        vertical-align: middle;\n",
       "    }\n",
       "\n",
       "    .dataframe tbody tr th {\n",
       "        vertical-align: top;\n",
       "    }\n",
       "\n",
       "    .dataframe thead th {\n",
       "        text-align: right;\n",
       "    }\n",
       "</style>\n",
       "<table border=\"1\" class=\"dataframe\">\n",
       "  <thead>\n",
       "    <tr style=\"text-align: right;\">\n",
       "      <th></th>\n",
       "      <th>author</th>\n",
       "    </tr>\n",
       "    <tr>\n",
       "      <th>year</th>\n",
       "      <th></th>\n",
       "    </tr>\n",
       "  </thead>\n",
       "  <tbody>\n",
       "    <tr>\n",
       "      <th>2012</th>\n",
       "      <td>8</td>\n",
       "    </tr>\n",
       "    <tr>\n",
       "      <th>2013</th>\n",
       "      <td>10</td>\n",
       "    </tr>\n",
       "    <tr>\n",
       "      <th>2014</th>\n",
       "      <td>9</td>\n",
       "    </tr>\n",
       "    <tr>\n",
       "      <th>2015</th>\n",
       "      <td>10</td>\n",
       "    </tr>\n",
       "    <tr>\n",
       "      <th>2016</th>\n",
       "      <td>10</td>\n",
       "    </tr>\n",
       "    <tr>\n",
       "      <th>2017</th>\n",
       "      <td>9</td>\n",
       "    </tr>\n",
       "    <tr>\n",
       "      <th>2018</th>\n",
       "      <td>2</td>\n",
       "    </tr>\n",
       "  </tbody>\n",
       "</table>\n",
       "</div>"
      ],
      "text/plain": [
       "      author\n",
       "year        \n",
       "2012       8\n",
       "2013      10\n",
       "2014       9\n",
       "2015      10\n",
       "2016      10\n",
       "2017       9\n",
       "2018       2"
      ]
     },
     "execution_count": 173,
     "metadata": {},
     "output_type": "execute_result"
    }
   ],
   "source": [
    "df['year'] = df['date'].astype(str).str[0:4]\n",
    "# check if GQ years add up\n",
    "df.groupby('year').count()[['author']]"
   ]
  },
  {
   "cell_type": "code",
   "execution_count": 175,
   "metadata": {},
   "outputs": [],
   "source": [
    "df.dropna(subset=['text'], inplace = True)\n",
    "df['text'] = df['text'].str[:-455] # remove Conde Nast user agreement from each interview\n",
    "\n",
    "df_fm = df[(df['author_gender'] == \"female\") & (df['celeb_gender'] == \"male\")]\n",
    "df_fm['pair'] = \"Female-Male\"\n",
    "df_ff = df[(df['author_gender'] == \"female\") & (df['celeb_gender'] == \"female\")]\n",
    "df_ff['pair'] = \"Female-Female\"\n",
    "df_mf = df[(df['author_gender'] == \"male\") & (df['celeb_gender'] == \"female\")]\n",
    "df_mf['pair'] = \"Male-Female\"\n",
    "df_mm = df[(df['author_gender'] == \"male\") & (df['celeb_gender'] == \"male\")]\n",
    "df_mm['pair'] = \"Male-Male\"\n",
    "\n",
    "df_f = pd.concat([df_mf, df_ff])\n",
    "df_m = pd.concat([df_fm, df_mm])\n",
    "\n",
    "df = pd.concat([df_fm,df_ff, df_mf, df_mm])\n",
    "df['text_length'] = df['text'].str.len()"
   ]
  },
  {
   "cell_type": "code",
   "execution_count": 190,
   "metadata": {},
   "outputs": [
    {
     "data": {
      "text/plain": [
       "Text(-8.7,0.5,'Length of Profile')"
      ]
     },
     "execution_count": 190,
     "metadata": {},
     "output_type": "execute_result"
    },
    {
     "data": {
      "image/png": "[encoded data removed]",
      "text/plain": [
       "<Figure size 360x360 with 1 Axes>"
      ]
     },
     "metadata": {},
     "output_type": "display_data"
    }
   ],
   "source": [
    "g = sns.factorplot(kind ='box',        # Boxplot\n",
    "               y = 'words',       # Y-axis - values for boxplot\n",
    "               x ='celeb_gender',        # X-axis - first factor\n",
    "               data = df,\n",
    "               size = 5,            # Figure size (x100px)      \n",
    "               aspect = 1,        # Width = size * aspect \n",
    "               legend_out = False,)\n",
    "ax = g.axes.flatten()\n",
    "ax[0].set_xlabel(\"Gender of Interviewee\")\n",
    "ax[0].set_ylabel(\"Length of Profile\")"
   ]
  },
  {
   "cell_type": "code",
   "execution_count": 197,
   "metadata": {},
   "outputs": [
    {
     "data": {
      "text/html": [
       "<div>\n",
       "<style scoped>\n",
       "    .dataframe tbody tr th:only-of-type {\n",
       "        vertical-align: middle;\n",
       "    }\n",
       "\n",
       "    .dataframe tbody tr th {\n",
       "        vertical-align: top;\n",
       "    }\n",
       "\n",
       "    .dataframe thead th {\n",
       "        text-align: right;\n",
       "    }\n",
       "</style>\n",
       "<table border=\"1\" class=\"dataframe\">\n",
       "  <thead>\n",
       "    <tr style=\"text-align: right;\">\n",
       "      <th></th>\n",
       "      <th>text_length</th>\n",
       "      <th>words</th>\n",
       "    </tr>\n",
       "    <tr>\n",
       "      <th>year</th>\n",
       "      <th></th>\n",
       "      <th></th>\n",
       "    </tr>\n",
       "  </thead>\n",
       "  <tbody>\n",
       "    <tr>\n",
       "      <th>2012</th>\n",
       "      <td>32260.250000</td>\n",
       "      <td>5661.750000</td>\n",
       "    </tr>\n",
       "    <tr>\n",
       "      <th>2013</th>\n",
       "      <td>19805.600000</td>\n",
       "      <td>3477.400000</td>\n",
       "    </tr>\n",
       "    <tr>\n",
       "      <th>2014</th>\n",
       "      <td>22816.000000</td>\n",
       "      <td>4012.222222</td>\n",
       "    </tr>\n",
       "    <tr>\n",
       "      <th>2015</th>\n",
       "      <td>29109.700000</td>\n",
       "      <td>5096.800000</td>\n",
       "    </tr>\n",
       "    <tr>\n",
       "      <th>2016</th>\n",
       "      <td>24663.200000</td>\n",
       "      <td>4303.300000</td>\n",
       "    </tr>\n",
       "    <tr>\n",
       "      <th>2017</th>\n",
       "      <td>22837.333333</td>\n",
       "      <td>4043.000000</td>\n",
       "    </tr>\n",
       "    <tr>\n",
       "      <th>2018</th>\n",
       "      <td>18584.500000</td>\n",
       "      <td>3199.500000</td>\n",
       "    </tr>\n",
       "  </tbody>\n",
       "</table>\n",
       "</div>"
      ],
      "text/plain": [
       "       text_length        words\n",
       "year                           \n",
       "2012  32260.250000  5661.750000\n",
       "2013  19805.600000  3477.400000\n",
       "2014  22816.000000  4012.222222\n",
       "2015  29109.700000  5096.800000\n",
       "2016  24663.200000  4303.300000\n",
       "2017  22837.333333  4043.000000\n",
       "2018  18584.500000  3199.500000"
      ]
     },
     "execution_count": 197,
     "metadata": {},
     "output_type": "execute_result"
    }
   ],
   "source": [
    "df.groupby('year').mean()"
   ]
  },
  {
   "cell_type": "code",
   "execution_count": 192,
   "metadata": {},
   "outputs": [
    {
     "data": {
      "text/plain": [
       "Text(-8.7,0.5,'Length of Profile')"
      ]
     },
     "execution_count": 192,
     "metadata": {},
     "output_type": "execute_result"
    },
    {
     "data": {
      "image/png": "[encoded data removed]",
      "text/plain": [
       "<Figure size 576x576 with 1 Axes>"
      ]
     },
     "metadata": {},
     "output_type": "display_data"
    }
   ],
   "source": [
    "g = sns.factorplot(kind ='box',        # Boxplot\n",
    "               y = 'text_length',       # Y-axis - values for boxplot\n",
    "               x ='pair',        # X-axis - first factor\n",
    "               data = df,\n",
    "               size = 8,            # Figure size (x100px)      \n",
    "               aspect = 1,        # Width = size * aspect \n",
    "               legend_out = False)  # Make legend inside the plot\n",
    "ax = g.axes.flatten()\n",
    "ax[0].set_xlabel(\"Gender Pairs\")\n",
    "ax[0].set_ylabel(\"Length of Profile\")"
   ]
  },
  {
   "cell_type": "code",
   "execution_count": null,
   "metadata": {},
   "outputs": [],
   "source": []
  },
  {
   "cell_type": "code",
   "execution_count": 95,
   "metadata": {},
   "outputs": [],
   "source": [
    "original = df\n",
    "\n"
   ]
  },
  {
   "cell_type": "markdown",
   "metadata": {},
   "source": [
    "# ALL INTERVIEWS"
   ]
  },
  {
   "cell_type": "code",
   "execution_count": 96,
   "metadata": {},
   "outputs": [
    {
     "data": {
      "image/png": "[encoded data removed]",
      "text/plain": [
       "<Figure size 432x288 with 1 Axes>"
      ]
     },
     "metadata": {},
     "output_type": "display_data"
    },
    {
     "name": "stdout",
     "output_type": "stream",
     "text": [
      "CPU times: user 4.13 s, sys: 22.5 ms, total: 4.15 s\n",
      "Wall time: 4.17 s\n"
     ]
    }
   ],
   "source": [
    "%%time\n",
    "def freq_dist(df):\n",
    "    df['tokens'] = df['text'].apply(lambda x: [nltk.word_tokenize(s) for s in nltk.sent_tokenize(x)])\n",
    "    from nltk.corpus import stopwords\n",
    "    # tokenize\n",
    "    flatten = lambda l: [item for sublist in l for item in sublist]\n",
    "    tokens = flatten(flatten(df['tokens'].tolist()))\n",
    "    # remove stop words\n",
    "    stopwords = stopwords.words('english')\n",
    "    clean_tokens = []\n",
    "    for token in tokens:\n",
    "        t = token.lower()\n",
    "        if t not in stopwords and len(t) > 1: # remove stopwords and punctuation\n",
    "            clean_tokens.append(t)\n",
    "    freq = nltk.FreqDist(clean_tokens)\n",
    "    return freq, clean_tokens\n",
    "\n",
    "freq_all,tokens_all = freq_dist(df)\n",
    "freq_all.plot(20,cumulative=False)"
   ]
  },
  {
   "cell_type": "code",
   "execution_count": 288,
   "metadata": {},
   "outputs": [
    {
     "data": {
      "image/png": "[encoded data removed]",
      "text/plain": [
       "<Figure size 432x288 with 1 Axes>"
      ]
     },
     "metadata": {},
     "output_type": "display_data"
    }
   ],
   "source": [
    "# MALE - MALE\n",
    "freq_mm,tokens_mm = freq_dist(df_mm)\n",
    "freq_mm.plot(20,cumulative=False, title = \"Male Journalist, Male Interviewee\")"
   ]
  },
  {
   "cell_type": "code",
   "execution_count": 289,
   "metadata": {},
   "outputs": [
    {
     "data": {
      "image/png": "[encoded data removed]",
      "text/plain": [
       "<Figure size 432x288 with 1 Axes>"
      ]
     },
     "metadata": {},
     "output_type": "display_data"
    }
   ],
   "source": [
    "# MALE - FEMALE\n",
    "freq_mf,tokens_mf = freq_dist(df_mf)\n",
    "freq_mf.plot(20,cumulative=False, title = \"Male Journalist, Female Interviewee\")"
   ]
  },
  {
   "cell_type": "code",
   "execution_count": 290,
   "metadata": {},
   "outputs": [
    {
     "data": {
      "image/png": "[encoded data removed]",
      "text/plain": [
       "<Figure size 432x288 with 1 Axes>"
      ]
     },
     "metadata": {},
     "output_type": "display_data"
    }
   ],
   "source": [
    "# FEMALE - FEMALE\n",
    "freq_ff,tokens_ff = freq_dist(df_ff)\n",
    "freq_ff.plot(20,cumulative=False, title = \"Female Journalist, Female Interviewee\")"
   ]
  },
  {
   "cell_type": "code",
   "execution_count": 291,
   "metadata": {},
   "outputs": [
    {
     "data": {
      "image/png": "[encoded data removed]",
      "text/plain": [
       "<Figure size 432x288 with 1 Axes>"
      ]
     },
     "metadata": {},
     "output_type": "display_data"
    }
   ],
   "source": [
    "# FEMALE - MALE\n",
    "freq_fm,tokens_fm = freq_dist(df_fm)\n",
    "freq_fm.plot(20,cumulative=False, title = \"Female Journalist, Male Interviewee\")"
   ]
  },
  {
   "cell_type": "code",
   "execution_count": 169,
   "metadata": {},
   "outputs": [
    {
     "data": {
      "image/png": "[encoded data removed]",
      "text/plain": [
       "<Figure size 432x288 with 1 Axes>"
      ]
     },
     "metadata": {},
     "output_type": "display_data"
    }
   ],
   "source": [
    "# FEMALE SUBJECTS\n",
    "freq_f,tokens_f = freq_dist(df_f)\n",
    "freq_f.plot(30,cumulative=False)"
   ]
  },
  {
   "cell_type": "code",
   "execution_count": 170,
   "metadata": {},
   "outputs": [
    {
     "data": {
      "image/png": "[encoded data removed]",
      "text/plain": [
       "<Figure size 432x288 with 1 Axes>"
      ]
     },
     "metadata": {},
     "output_type": "display_data"
    }
   ],
   "source": [
    "# MALE SUBJECTS\n",
    "freq_m,tokens_m = freq_dist(df_m)\n",
    "freq_m.plot(30,cumulative=False)"
   ]
  },
  {
   "cell_type": "code",
   "execution_count": 207,
   "metadata": {},
   "outputs": [],
   "source": [
    "# test run on mm texts\n",
    "from nltk import word_tokenize, pos_tag, pos_tag_sents\n"
   ]
  },
  {
   "cell_type": "code",
   "execution_count": 209,
   "metadata": {},
   "outputs": [],
   "source": [
    "def top_20(a, entry):\n",
    "    countTarget = a\n",
    "    targetCounts = {}\n",
    "    for sentence in entry:\n",
    "        for ent, kind in sentence:\n",
    "            if kind != countTarget:\n",
    "                continue\n",
    "            elif ent in targetCounts:\n",
    "                targetCounts[ent] += 1\n",
    "            else:\n",
    "                targetCounts[ent] = 1\n",
    "    sortedTargets = sorted(targetCounts.items(), key = lambda x: x[1], reverse = True)\n",
    "    return sortedTargets\n"
   ]
  },
  {
   "cell_type": "code",
   "execution_count": 241,
   "metadata": {},
   "outputs": [],
   "source": [
    "def get_top_20(df, pos):\n",
    "    texts = df['text'].tolist()\n",
    "    tagged_texts = pos_tag_sents(map(word_tokenize, texts))\n",
    "    nouns = top_20(pos,tagged_texts)\n",
    "    final = []\n",
    "    for word,count in nouns:\n",
    "        if len(word) > 2:\n",
    "            final.append(word)\n",
    "    return final[:20]\n",
    "\n",
    "def get_results_df(pos):\n",
    "    global df_ff, df_mm, df_mf, df_fm\n",
    "    a = get_top_20(df_ff, pos)\n",
    "    b = get_top_20(df_mm, pos)\n",
    "    c = get_top_20(df_mf, pos)\n",
    "    d = get_top_20(df_fm, pos)\n",
    "    \n",
    "    top_nouns = pd.DataFrame(\n",
    "    {'Female-Female': a,\n",
    "     'Male-Male': b,\n",
    "     'Male-Female': c,\n",
    "     'Female-Male': d})\n",
    "    \n",
    "    return top_nouns"
   ]
  },
  {
   "cell_type": "code",
   "execution_count": 234,
   "metadata": {},
   "outputs": [],
   "source": [
    "a = get_top_20(df_ff, 'NN')"
   ]
  },
  {
   "cell_type": "code",
   "execution_count": 235,
   "metadata": {},
   "outputs": [],
   "source": [
    "b = get_top_20(df_mm, 'NN')"
   ]
  },
  {
   "cell_type": "code",
   "execution_count": 236,
   "metadata": {},
   "outputs": [],
   "source": [
    "c = get_top_20(df_mf, 'NN')"
   ]
  },
  {
   "cell_type": "code",
   "execution_count": 237,
   "metadata": {},
   "outputs": [],
   "source": [
    "d = get_top_20(df_fm, 'NN')"
   ]
  },
  {
   "cell_type": "code",
   "execution_count": 238,
   "metadata": {},
   "outputs": [],
   "source": [
    "top_nouns = pd.DataFrame(\n",
    "    {'Female-Female': a,\n",
    "     'Male-Male': b,\n",
    "     'Male-Female': c,\n",
    "     'Female-Male': d})"
   ]
  },
  {
   "cell_type": "code",
   "execution_count": 292,
   "metadata": {},
   "outputs": [],
   "source": [
    "get_results_df('NN').to_csv(\"nouns.csv\")"
   ]
  },
  {
   "cell_type": "code",
   "execution_count": 244,
   "metadata": {},
   "outputs": [
    {
     "data": {
      "text/html": [
       "<div>\n",
       "<style scoped>\n",
       "    .dataframe tbody tr th:only-of-type {\n",
       "        vertical-align: middle;\n",
       "    }\n",
       "\n",
       "    .dataframe tbody tr th {\n",
       "        vertical-align: top;\n",
       "    }\n",
       "\n",
       "    .dataframe thead th {\n",
       "        text-align: right;\n",
       "    }\n",
       "</style>\n",
       "<table border=\"1\" class=\"dataframe\">\n",
       "  <thead>\n",
       "    <tr style=\"text-align: right;\">\n",
       "      <th></th>\n",
       "      <th>Female-Female</th>\n",
       "      <th>Female-Male</th>\n",
       "      <th>Male-Female</th>\n",
       "      <th>Male-Male</th>\n",
       "    </tr>\n",
       "  </thead>\n",
       "  <tbody>\n",
       "    <tr>\n",
       "      <th>0</th>\n",
       "      <td>have</td>\n",
       "      <td>have</td>\n",
       "      <td>have</td>\n",
       "      <td>get</td>\n",
       "    </tr>\n",
       "    <tr>\n",
       "      <th>1</th>\n",
       "      <td>get</td>\n",
       "      <td>get</td>\n",
       "      <td>get</td>\n",
       "      <td>have</td>\n",
       "    </tr>\n",
       "    <tr>\n",
       "      <th>2</th>\n",
       "      <td>make</td>\n",
       "      <td>make</td>\n",
       "      <td>see</td>\n",
       "      <td>make</td>\n",
       "    </tr>\n",
       "    <tr>\n",
       "      <th>3</th>\n",
       "      <td>see</td>\n",
       "      <td>see</td>\n",
       "      <td>make</td>\n",
       "      <td>take</td>\n",
       "    </tr>\n",
       "    <tr>\n",
       "      <th>4</th>\n",
       "      <td>say</td>\n",
       "      <td>give</td>\n",
       "      <td>say</td>\n",
       "      <td>see</td>\n",
       "    </tr>\n",
       "    <tr>\n",
       "      <th>5</th>\n",
       "      <td>take</td>\n",
       "      <td>talk</td>\n",
       "      <td>take</td>\n",
       "      <td>know</td>\n",
       "    </tr>\n",
       "    <tr>\n",
       "      <th>6</th>\n",
       "      <td>know</td>\n",
       "      <td>take</td>\n",
       "      <td>tell</td>\n",
       "      <td>think</td>\n",
       "    </tr>\n",
       "    <tr>\n",
       "      <th>7</th>\n",
       "      <td>talk</td>\n",
       "      <td>say</td>\n",
       "      <td>feel</td>\n",
       "      <td>play</td>\n",
       "    </tr>\n",
       "    <tr>\n",
       "      <th>8</th>\n",
       "      <td>give</td>\n",
       "      <td>come</td>\n",
       "      <td>come</td>\n",
       "      <td>say</td>\n",
       "    </tr>\n",
       "    <tr>\n",
       "      <th>9</th>\n",
       "      <td>tell</td>\n",
       "      <td>become</td>\n",
       "      <td>work</td>\n",
       "      <td>want</td>\n",
       "    </tr>\n",
       "    <tr>\n",
       "      <th>10</th>\n",
       "      <td>feel</td>\n",
       "      <td>know</td>\n",
       "      <td>talk</td>\n",
       "      <td>tell</td>\n",
       "    </tr>\n",
       "    <tr>\n",
       "      <th>11</th>\n",
       "      <td>work</td>\n",
       "      <td>try</td>\n",
       "      <td>know</td>\n",
       "      <td>find</td>\n",
       "    </tr>\n",
       "    <tr>\n",
       "      <th>12</th>\n",
       "      <td>think</td>\n",
       "      <td>think</td>\n",
       "      <td>play</td>\n",
       "      <td>work</td>\n",
       "    </tr>\n",
       "    <tr>\n",
       "      <th>13</th>\n",
       "      <td>find</td>\n",
       "      <td>keep</td>\n",
       "      <td>find</td>\n",
       "      <td>run</td>\n",
       "    </tr>\n",
       "    <tr>\n",
       "      <th>14</th>\n",
       "      <td>come</td>\n",
       "      <td>play</td>\n",
       "      <td>give</td>\n",
       "      <td>look</td>\n",
       "    </tr>\n",
       "    <tr>\n",
       "      <th>15</th>\n",
       "      <td>play</td>\n",
       "      <td>work</td>\n",
       "      <td>put</td>\n",
       "      <td>meet</td>\n",
       "    </tr>\n",
       "    <tr>\n",
       "      <th>16</th>\n",
       "      <td>keep</td>\n",
       "      <td>screw</td>\n",
       "      <td>think</td>\n",
       "      <td>come</td>\n",
       "    </tr>\n",
       "    <tr>\n",
       "      <th>17</th>\n",
       "      <td>help</td>\n",
       "      <td>let</td>\n",
       "      <td>keep</td>\n",
       "      <td>let</td>\n",
       "    </tr>\n",
       "    <tr>\n",
       "      <th>18</th>\n",
       "      <td>love</td>\n",
       "      <td>watch</td>\n",
       "      <td>look</td>\n",
       "      <td>call</td>\n",
       "    </tr>\n",
       "    <tr>\n",
       "      <th>19</th>\n",
       "      <td>let</td>\n",
       "      <td>happen</td>\n",
       "      <td>let</td>\n",
       "      <td>show</td>\n",
       "    </tr>\n",
       "  </tbody>\n",
       "</table>\n",
       "</div>"
      ],
      "text/plain": [
       "   Female-Female Female-Male Male-Female Male-Male\n",
       "0           have        have        have       get\n",
       "1            get         get         get      have\n",
       "2           make        make         see      make\n",
       "3            see         see        make      take\n",
       "4            say        give         say       see\n",
       "5           take        talk        take      know\n",
       "6           know        take        tell     think\n",
       "7           talk         say        feel      play\n",
       "8           give        come        come       say\n",
       "9           tell      become        work      want\n",
       "10          feel        know        talk      tell\n",
       "11          work         try        know      find\n",
       "12         think       think        play      work\n",
       "13          find        keep        find       run\n",
       "14          come        play        give      look\n",
       "15          play        work         put      meet\n",
       "16          keep       screw       think      come\n",
       "17          help         let        keep       let\n",
       "18          love       watch        look      call\n",
       "19           let      happen         let      show"
      ]
     },
     "execution_count": 244,
     "metadata": {},
     "output_type": "execute_result"
    }
   ],
   "source": [
    "get_results_df('VB')"
   ]
  },
  {
   "cell_type": "code",
   "execution_count": 245,
   "metadata": {},
   "outputs": [
    {
     "data": {
      "text/html": [
       "<div>\n",
       "<style scoped>\n",
       "    .dataframe tbody tr th:only-of-type {\n",
       "        vertical-align: middle;\n",
       "    }\n",
       "\n",
       "    .dataframe tbody tr th {\n",
       "        vertical-align: top;\n",
       "    }\n",
       "\n",
       "    .dataframe thead th {\n",
       "        text-align: right;\n",
       "    }\n",
       "</style>\n",
       "<table border=\"1\" class=\"dataframe\">\n",
       "  <thead>\n",
       "    <tr style=\"text-align: right;\">\n",
       "      <th></th>\n",
       "      <th>Female-Female</th>\n",
       "      <th>Female-Male</th>\n",
       "      <th>Male-Female</th>\n",
       "      <th>Male-Male</th>\n",
       "    </tr>\n",
       "  </thead>\n",
       "  <tbody>\n",
       "    <tr>\n",
       "      <th>0</th>\n",
       "      <td>other</td>\n",
       "      <td>other</td>\n",
       "      <td>first</td>\n",
       "      <td>first</td>\n",
       "    </tr>\n",
       "    <tr>\n",
       "      <th>1</th>\n",
       "      <td>first</td>\n",
       "      <td>new</td>\n",
       "      <td>other</td>\n",
       "      <td>good</td>\n",
       "    </tr>\n",
       "    <tr>\n",
       "      <th>2</th>\n",
       "      <td>last</td>\n",
       "      <td>good</td>\n",
       "      <td>little</td>\n",
       "      <td>other</td>\n",
       "    </tr>\n",
       "    <tr>\n",
       "      <th>3</th>\n",
       "      <td>much</td>\n",
       "      <td>first</td>\n",
       "      <td>much</td>\n",
       "      <td>big</td>\n",
       "    </tr>\n",
       "    <tr>\n",
       "      <th>4</th>\n",
       "      <td>good</td>\n",
       "      <td>own</td>\n",
       "      <td>new</td>\n",
       "      <td>few</td>\n",
       "    </tr>\n",
       "    <tr>\n",
       "      <th>5</th>\n",
       "      <td>next</td>\n",
       "      <td>big</td>\n",
       "      <td>same</td>\n",
       "      <td>little</td>\n",
       "    </tr>\n",
       "    <tr>\n",
       "      <th>6</th>\n",
       "      <td>young</td>\n",
       "      <td>famous</td>\n",
       "      <td>good</td>\n",
       "      <td>own</td>\n",
       "    </tr>\n",
       "    <tr>\n",
       "      <th>7</th>\n",
       "      <td>own</td>\n",
       "      <td>little</td>\n",
       "      <td>last</td>\n",
       "      <td>last</td>\n",
       "    </tr>\n",
       "    <tr>\n",
       "      <th>8</th>\n",
       "      <td>little</td>\n",
       "      <td>same</td>\n",
       "      <td>great</td>\n",
       "      <td>great</td>\n",
       "    </tr>\n",
       "    <tr>\n",
       "      <th>9</th>\n",
       "      <td>big</td>\n",
       "      <td>much</td>\n",
       "      <td>few</td>\n",
       "      <td>new</td>\n",
       "    </tr>\n",
       "    <tr>\n",
       "      <th>10</th>\n",
       "      <td>same</td>\n",
       "      <td>different</td>\n",
       "      <td>own</td>\n",
       "      <td>next</td>\n",
       "    </tr>\n",
       "    <tr>\n",
       "      <th>11</th>\n",
       "      <td>few</td>\n",
       "      <td>great</td>\n",
       "      <td>next</td>\n",
       "      <td>much</td>\n",
       "    </tr>\n",
       "    <tr>\n",
       "      <th>12</th>\n",
       "      <td>many</td>\n",
       "      <td>such</td>\n",
       "      <td>such</td>\n",
       "      <td>many</td>\n",
       "    </tr>\n",
       "    <tr>\n",
       "      <th>13</th>\n",
       "      <td>real</td>\n",
       "      <td>few</td>\n",
       "      <td>big</td>\n",
       "      <td>real</td>\n",
       "    </tr>\n",
       "    <tr>\n",
       "      <th>14</th>\n",
       "      <td>such</td>\n",
       "      <td>right</td>\n",
       "      <td>many</td>\n",
       "      <td>old</td>\n",
       "    </tr>\n",
       "    <tr>\n",
       "      <th>15</th>\n",
       "      <td>great</td>\n",
       "      <td>small</td>\n",
       "      <td>white</td>\n",
       "      <td>such</td>\n",
       "    </tr>\n",
       "    <tr>\n",
       "      <th>16</th>\n",
       "      <td>different</td>\n",
       "      <td>last</td>\n",
       "      <td>different</td>\n",
       "      <td>same</td>\n",
       "    </tr>\n",
       "    <tr>\n",
       "      <th>17</th>\n",
       "      <td>new</td>\n",
       "      <td>many</td>\n",
       "      <td>second</td>\n",
       "      <td>different</td>\n",
       "    </tr>\n",
       "    <tr>\n",
       "      <th>18</th>\n",
       "      <td>public</td>\n",
       "      <td>Late</td>\n",
       "      <td>long</td>\n",
       "      <td>young</td>\n",
       "    </tr>\n",
       "    <tr>\n",
       "      <th>19</th>\n",
       "      <td>long</td>\n",
       "      <td>old</td>\n",
       "      <td>young</td>\n",
       "      <td>American</td>\n",
       "    </tr>\n",
       "  </tbody>\n",
       "</table>\n",
       "</div>"
      ],
      "text/plain": [
       "   Female-Female Female-Male Male-Female  Male-Male\n",
       "0          other       other       first      first\n",
       "1          first         new       other       good\n",
       "2           last        good      little      other\n",
       "3           much       first        much        big\n",
       "4           good         own         new        few\n",
       "5           next         big        same     little\n",
       "6          young      famous        good        own\n",
       "7            own      little        last       last\n",
       "8         little        same       great      great\n",
       "9            big        much         few        new\n",
       "10          same   different         own       next\n",
       "11           few       great        next       much\n",
       "12          many        such        such       many\n",
       "13          real         few         big       real\n",
       "14          such       right        many        old\n",
       "15         great       small       white       such\n",
       "16     different        last   different       same\n",
       "17           new        many      second  different\n",
       "18        public        Late        long      young\n",
       "19          long         old       young   American"
      ]
     },
     "execution_count": 245,
     "metadata": {},
     "output_type": "execute_result"
    }
   ],
   "source": [
    "get_results_df('JJ')"
   ]
  },
  {
   "cell_type": "code",
   "execution_count": null,
   "metadata": {},
   "outputs": [],
   "source": []
  },
  {
   "cell_type": "code",
   "execution_count": 115,
   "metadata": {},
   "outputs": [
    {
     "name": "stdout",
     "output_type": "stream",
     "text": [
      "CPU times: user 7.98 ms, sys: 709 µs, total: 8.69 ms\n",
      "Wall time: 8.59 ms\n"
     ]
    }
   ],
   "source": [
    "%%time\n",
    "# see collocations\n",
    "text = nltk.Text(tokens_all)\n",
    "text_mm = nltk.Text(tokens_mm)\n",
    "text_ff = nltk.Text(tokens_ff)\n",
    "text_mf = nltk.Text(tokens_mf)\n",
    "text_fm = nltk.Text(tokens_fm)\n",
    "text_f = nltk.Text(tokens_f)\n",
    "text_m = nltk.Text(tokens_m)\n",
    "\n",
    "\n",
    "texts = [text, text_mm, text_ff, text_mf, text_fm, text_f, text_m]\n",
    "tokens = [tokens, tokens_mm, tokens_ff, tokens_mf, tokens_fm, tokens_f, tokens_m]"
   ]
  },
  {
   "cell_type": "code",
   "execution_count": 274,
   "metadata": {},
   "outputs": [],
   "source": [
    "body_parts = ['face','nose','hair','skin','legs','arms','hands','waist','lips', 'leg','arm','hand','lip','breasts',\n",
    "             'breast','beard','chin','vagina','penis','clitoris', 'smile','chest','butt','ass','biceps','bicep','thigh','thighs']"
   ]
  },
  {
   "cell_type": "code",
   "execution_count": 282,
   "metadata": {},
   "outputs": [],
   "source": [
    "from collections import Counter\n",
    "\n",
    "def get_count_dict(df):\n",
    "    texts = df['text'].tolist()\n",
    "    flat_list = []\n",
    "    for text in texts:\n",
    "        flat_list.extend(text.split())\n",
    "\n",
    "\n",
    "    to_count = []\n",
    "    for word in flat_list:\n",
    "        if word in body_parts:\n",
    "            to_count.append(word)\n",
    "    d = {x:to_count.count(x)/len(df) for x in to_count}\n",
    "    count_average = len(to_count)/len(df)\n",
    "    return d, count_average\n",
    "\n",
    "    "
   ]
  },
  {
   "cell_type": "code",
   "execution_count": 283,
   "metadata": {},
   "outputs": [
    {
     "data": {
      "text/plain": [
       "({'arm': 0.3076923076923077,\n",
       "  'arms': 0.15384615384615385,\n",
       "  'ass': 0.3076923076923077,\n",
       "  'beard': 0.23076923076923078,\n",
       "  'breast': 0.07692307692307693,\n",
       "  'chin': 0.07692307692307693,\n",
       "  'face': 1.3076923076923077,\n",
       "  'hair': 0.3076923076923077,\n",
       "  'hand': 0.3076923076923077,\n",
       "  'hands': 0.9230769230769231,\n",
       "  'leg': 0.07692307692307693,\n",
       "  'lips': 0.07692307692307693,\n",
       "  'nose': 0.07692307692307693,\n",
       "  'smile': 0.23076923076923078},\n",
       " 4.461538461538462)"
      ]
     },
     "execution_count": 283,
     "metadata": {},
     "output_type": "execute_result"
    }
   ],
   "source": [
    "get_count_dict(df_mm)"
   ]
  },
  {
   "cell_type": "code",
   "execution_count": 285,
   "metadata": {},
   "outputs": [
    {
     "data": {
      "text/plain": [
       "({'arm': 0.16666666666666666,\n",
       "  'arms': 0.1111111111111111,\n",
       "  'ass': 0.1111111111111111,\n",
       "  'beard': 0.1111111111111111,\n",
       "  'breast': 0.2222222222222222,\n",
       "  'breasts': 0.2222222222222222,\n",
       "  'chest': 0.05555555555555555,\n",
       "  'chin': 0.05555555555555555,\n",
       "  'face': 1.8888888888888888,\n",
       "  'hair': 1.4444444444444444,\n",
       "  'hand': 0.4444444444444444,\n",
       "  'hands': 0.5,\n",
       "  'leg': 0.2777777777777778,\n",
       "  'legs': 0.3888888888888889,\n",
       "  'lips': 0.16666666666666666,\n",
       "  'nose': 0.1111111111111111,\n",
       "  'penis': 0.05555555555555555,\n",
       "  'skin': 0.2222222222222222,\n",
       "  'smile': 0.2222222222222222,\n",
       "  'vagina': 0.05555555555555555},\n",
       " 6.833333333333333)"
      ]
     },
     "execution_count": 285,
     "metadata": {},
     "output_type": "execute_result"
    }
   ],
   "source": [
    "get_count_dict(df_mf)"
   ]
  },
  {
   "cell_type": "code",
   "execution_count": 286,
   "metadata": {},
   "outputs": [
    {
     "data": {
      "text/plain": [
       "({'arm': 0.045454545454545456,\n",
       "  'arms': 0.045454545454545456,\n",
       "  'ass': 0.09090909090909091,\n",
       "  'breast': 0.13636363636363635,\n",
       "  'breasts': 0.18181818181818182,\n",
       "  'chest': 0.09090909090909091,\n",
       "  'chin': 0.045454545454545456,\n",
       "  'face': 1.1818181818181819,\n",
       "  'hair': 1.1818181818181819,\n",
       "  'hand': 0.5,\n",
       "  'hands': 0.36363636363636365,\n",
       "  'leg': 0.09090909090909091,\n",
       "  'legs': 0.13636363636363635,\n",
       "  'lip': 0.045454545454545456,\n",
       "  'lips': 0.045454545454545456,\n",
       "  'nose': 0.09090909090909091,\n",
       "  'penis': 0.045454545454545456,\n",
       "  'skin': 0.3181818181818182,\n",
       "  'smile': 0.22727272727272727,\n",
       "  'thigh': 0.045454545454545456},\n",
       " 4.909090909090909)"
      ]
     },
     "execution_count": 286,
     "metadata": {},
     "output_type": "execute_result"
    }
   ],
   "source": [
    "get_count_dict(df_ff)"
   ]
  },
  {
   "cell_type": "code",
   "execution_count": 284,
   "metadata": {},
   "outputs": [
    {
     "data": {
      "text/plain": [
       "({'arms': 0.6,\n",
       "  'biceps': 0.2,\n",
       "  'face': 0.6,\n",
       "  'hair': 0.2,\n",
       "  'hand': 0.4,\n",
       "  'hands': 0.6,\n",
       "  'lips': 0.2,\n",
       "  'penis': 0.2,\n",
       "  'skin': 0.2,\n",
       "  'smile': 0.2,\n",
       "  'thighs': 0.2},\n",
       " 3.6)"
      ]
     },
     "execution_count": 284,
     "metadata": {},
     "output_type": "execute_result"
    }
   ],
   "source": [
    "get_count_dict(df_fm)"
   ]
  },
  {
   "cell_type": "code",
   "execution_count": 293,
   "metadata": {},
   "outputs": [
    {
     "data": {
      "text/plain": [
       "({'arm': 0.1,\n",
       "  'arms': 0.075,\n",
       "  'ass': 0.1,\n",
       "  'beard': 0.05,\n",
       "  'breast': 0.175,\n",
       "  'breasts': 0.2,\n",
       "  'chest': 0.075,\n",
       "  'chin': 0.05,\n",
       "  'face': 1.5,\n",
       "  'hair': 1.3,\n",
       "  'hand': 0.475,\n",
       "  'hands': 0.425,\n",
       "  'leg': 0.175,\n",
       "  'legs': 0.25,\n",
       "  'lip': 0.025,\n",
       "  'lips': 0.1,\n",
       "  'nose': 0.1,\n",
       "  'penis': 0.05,\n",
       "  'skin': 0.275,\n",
       "  'smile': 0.225,\n",
       "  'thigh': 0.025,\n",
       "  'vagina': 0.025},\n",
       " 5.775)"
      ]
     },
     "execution_count": 293,
     "metadata": {},
     "output_type": "execute_result"
    }
   ],
   "source": [
    "get_count_dict(df_f)"
   ]
  },
  {
   "cell_type": "code",
   "execution_count": 294,
   "metadata": {},
   "outputs": [
    {
     "data": {
      "text/plain": [
       "({'arm': 0.2222222222222222,\n",
       "  'arms': 0.2777777777777778,\n",
       "  'ass': 0.2222222222222222,\n",
       "  'beard': 0.16666666666666666,\n",
       "  'biceps': 0.05555555555555555,\n",
       "  'breast': 0.05555555555555555,\n",
       "  'chin': 0.05555555555555555,\n",
       "  'face': 1.1111111111111112,\n",
       "  'hair': 0.2777777777777778,\n",
       "  'hand': 0.3333333333333333,\n",
       "  'hands': 0.8333333333333334,\n",
       "  'leg': 0.05555555555555555,\n",
       "  'lips': 0.1111111111111111,\n",
       "  'nose': 0.05555555555555555,\n",
       "  'penis': 0.05555555555555555,\n",
       "  'skin': 0.05555555555555555,\n",
       "  'smile': 0.2222222222222222,\n",
       "  'thighs': 0.05555555555555555},\n",
       " 4.222222222222222)"
      ]
     },
     "execution_count": 294,
     "metadata": {},
     "output_type": "execute_result"
    }
   ],
   "source": [
    "get_count_dict(df_m)"
   ]
  },
  {
   "cell_type": "code",
   "execution_count": 118,
   "metadata": {},
   "outputs": [
    {
     "name": "stdout",
     "output_type": "stream",
     "text": [
      "text\n",
      "new york; los angeles; hunger games; years ago; vanity fair; world\n",
      "war; little bit; last year; beverly hills; meryl streep; tom cruise;\n",
      "linings playbook; saturday night; high school; movie star; fox news;\n",
      "academy award; tonight show; jennifer lawrence; silver linings\n",
      "None\n",
      "text_mm\n",
      "new york; los angeles; magic mike; born run; saturday night; mad men;\n",
      "virtual reality; van zandt; magic leap; years ago; high school; little\n",
      "bit; night live; iron man; long island; bill murray; lorne michaels;\n",
      "first time; st. louis; academy award\n",
      "None\n",
      "text_ff\n",
      "new york; fox news; hunger games; tom cruise; los angeles; vanity\n",
      "fair; knowledgeable source; years ago; mary poppins; last year;\n",
      "beverly hills; nizhny novgorod; movie star; social media; sea org;\n",
      "khmer rouge; hillary clinton; ron hubbard; red sparrow; nicole kidman\n",
      "None\n",
      "text_mf\n",
      "new york; los angeles; hunger games; meryl streep; beverly hills;\n",
      "dressing room; kramer vs.; linings playbook; vanity fair; olivia pope;\n",
      "keeping kardashians; vs. kramer; harry potter; last year; bruce\n",
      "jenner; house cards; years ago; york city; silver linings; san\n",
      "francisco\n",
      "None\n",
      "text_fm\n",
      "world war; tonight show; late night; new york; gerry lane; tells\n",
      "robinson; quantum solace; adam goodman; dede gardner; marc forster;\n",
      "studio executives; jay tells; waffle fries; night live; academy award;\n",
      "blooper reel; saturday night; cast crew; fuck fuck; casino royale\n",
      "None\n",
      "text_f\n",
      "new york; hunger games; los angeles; vanity fair; beverly hills; years\n",
      "ago; last year; tom cruise; meryl streep; fox news; linings playbook;\n",
      "silver linings; knowledgeable source; dressing room; little bit; mary\n",
      "poppins; kramer vs.; united states; amy schumer; jennifer lawrence\n",
      "None\n",
      "text_m\n",
      "new york; world war; los angeles; saturday night; magic mike; tonight\n",
      "show; night live; little bit; born run; mad men; virtual reality;\n",
      "gerry lane; van zandt; quantum solace; academy award; tells robinson;\n",
      "magic leap; late night; years ago; iron man\n",
      "None\n"
     ]
    }
   ],
   "source": [
    "for t in texts:\n",
    "    print(namestr(t)[0])\n",
    "    print(t.collocations())"
   ]
  },
  {
   "cell_type": "code",
   "execution_count": 119,
   "metadata": {},
   "outputs": [],
   "source": [
    "from nltk.collocations import *\n",
    "\n",
    "def namestr(obj, namespace = globals()):\n",
    "    return [name for name in namespace if namespace[name] is obj]\n",
    "\n",
    "def top_bigrams(tokens , n = 10):\n",
    "    bigram_measures = nltk.collocations.BigramAssocMeasures()\n",
    "    finder = BigramCollocationFinder.from_words(tokens, 10)\n",
    "    finder.apply_freq_filter(10)\n",
    "    return finder.score_ngrams (bigram_measures.likelihood_ratio)[:n]\n",
    "\n",
    "def top_trigrams(tokens, n = 10):\n",
    "    trigram_measures = nltk.collocations.TrigramAssocMeasures()\n",
    "    whTrigrams = nltk.collocations.TrigramCollocationFinder.from_words(tokens)\n",
    "    return whTrigrams.score_ngrams(trigram_measures.student_t)[:n]"
   ]
  },
  {
   "cell_type": "code",
   "execution_count": 121,
   "metadata": {},
   "outputs": [
    {
     "name": "stdout",
     "output_type": "stream",
     "text": [
      "t\n",
      "[(('.', '“', 'I'), 24.09526221732773), (('I', '’', 'm'), 22.194556213530056), (('don', '’', 't'), 19.542492606390756), (('It', '’', 's'), 19.194607777189123), (('it', '’', 's'), 19.14754580498389), ((',', '”', 'she'), 18.290162206930972), (('didn', '’', 't'), 17.231633969635276), (('I', 'don', '’'), 15.05628581839581), ((',', '”', 'he'), 14.861256971713106), (('she', '’', 's'), 14.742868077430694)]\n",
      "tokens_mm\n",
      "[(('saturday', 'night', 'live'), 3.6055418051417303), (('21', 'jump', 'street'), 2.236066835363485), (('magic', 'mike', 'xxl'), 1.999998358378245), (('robert', 'downey', 'jr.'), 1.9999935390458075), (('new', 'york', 'times'), 1.9999569566775866), (('guide', 'recognizing', 'saints'), 1.7320507669492733), (('santa', 'claus', 'wants'), 1.732050590930989), (('academy', 'award', 'nomination'), 1.7320504555323086), (('robert', 'de', 'niro'), 1.7320501772880206), (('million', 'dollar', 'arm'), 1.7320499782519605)]\n",
      "tokens_ff\n",
      "[(('according', 'knowledgeable', 'source'), 2.9999956127576155), (('world', 'war', 'ii'), 2.8284209335712895), (('l.', 'ron', 'hubbard'), 2.44948960161398), (('land', 'blood', 'honey'), 2.236067683083102), (('mary', 'poppins', 'returns'), 2.236067576022488), (('according', 'several', 'sources'), 2.2360648861245696), (('silver', 'linings', 'playbook'), 1.9999999689673396), (('devil', 'wears', 'prada'), 1.9999999556676278), (('sister', 'lee', 'anne'), 1.9999998545344038), (('naked', 'heart', 'foundation'), 1.999999811587418)]\n",
      "tokens_mf\n",
      "[(('new', 'york', 'city'), 3.6055204498294553), (('kramer', 'vs.', 'kramer'), 3.4640977530639576), (('silver', 'linings', 'playbook'), 2.8284269796195), (('inside', 'amy', 'schumer'), 2.64573303193215), (('new', 'york', 'times'), 2.645706405684447), (('joke', 'joke', 'joke'), 2.449488645909868), (('transgender', 'women', 'men'), 2.449474203744612), (('david', 'o.', 'russell'), 2.236067052839035), (('charlie', 'wilson', 'war'), 1.9999999502448162), (('philip', 'seymour', 'hoffman'), 1.999999889432925)]\n",
      "tokens_fm\n",
      "[(('saturday', 'night', 'live'), 2.4494809803268556), (('jay', 'tells', 'robinson'), 2.4494805387176513), (('said', 'adam', 'goodman'), 2.2360027464655348), (('*late', 'night', '*s'), 1.999989680987075), (('fuck', 'fuck', 'fuck'), 1.7320499200792663), (('*the', 'tonight', 'show'), 1.732036385862695), (('size', 'world', 'war'), 1.7320147533034222), (('tonight', 'show', '*s'), 1.7319546628609965), (('said', 'marc', 'evans'), 1.7319229844123742), (('el', 'primo', 'knockout'), 1.4142135221157486)]\n",
      "tokens_f\n",
      "[(('new', 'york', 'city'), 4.123079072687115), (('silver', 'linings', 'playbook'), 3.4641015044484442), (('kramer', 'vs.', 'kramer'), 3.4641004880134676), (('new', 'york', 'times'), 3.316573704032527), (('according', 'knowledgeable', 'source'), 2.999998515150675), (('world', 'war', 'ii'), 2.999996294179105), (('like', 'oh', 'god'), 2.828298226368397), (('david', 'o.', 'russell'), 2.6457507425074622), (('inside', 'amy', 'schumer'), 2.645742511435311), (('l.', 'ron', 'hubbard'), 2.4494897082027203)]\n",
      "tokens_m\n",
      "[(('saturday', 'night', 'live'), 4.358886244050915), (('jay', 'tells', 'robinson'), 2.449488496007023), (('21', 'jump', 'street'), 2.2360669735969094), (('robert', 'downey', 'jr.'), 2.23606418951741), (('said', 'adam', 'goodman'), 2.2360494137861706), (('new', 'york', 'times'), 2.2360098148052248), (('magic', 'mike', 'xxl'), 1.9999990081138006), (('*late', 'night', '*s'), 1.999997477275082), (('guide', 'recognizing', 'saints'), 1.7320507870186705), (('pacific', 'coast', 'highway'), 1.732050711667912)]\n"
     ]
    }
   ],
   "source": [
    "for t in tokens:\n",
    "    print(namestr(t)[0])\n",
    "    print(top_trigrams(t))\n"
   ]
  },
  {
   "cell_type": "code",
   "execution_count": 122,
   "metadata": {},
   "outputs": [
    {
     "name": "stdout",
     "output_type": "stream",
     "text": [
      "t\n",
      "[(('’', 's'), 905.4662091690492), (('’', 't'), 332.1141637458285), (('Condé', 'Nast'), 246.08914938812654), (('(', ')'), 212.21895900119483), (('don', 't'), 193.75608421467717), (('[', ']'), 187.02832561169106), (('I', 'm'), 179.6775159152195), (('”', '“'), 171.72983342385885), (('“', '”'), 160.35207445738334), (('“', 'I'), 157.62953545678081)]\n",
      "tokens_mm\n",
      "[(('new', 'york'), 24.19887650333858), (('different', 'different'), 22.630907331719218), (('30', 'rock'), 18.936671692796494), (('gon', 'na'), 13.41924111074481), (('magic', 'mike'), 13.048636505946668), (('mad', 'men'), 12.443972574017417), (('los', 'angeles'), 12.357051187618504), (('little', 'bit'), 11.566911992991203), (('virtual', 'reality'), 10.482882503674848), (('born', 'run'), 10.048987652195555)]\n",
      "tokens_ff\n",
      "[(('new', 'york'), 24.787760151472344), (('fox', 'news'), 18.19236565261792), (('kate', 'hillary'), 17.76498374602603), (('mary', 'poppins'), 17.04249466594669), (('tom', 'cruise'), 16.670117603477784), (('hunger', 'games'), 16.215038296650263), (('gon', 'na'), 15.218942312470563), (('los', 'angeles'), 14.253921656914105), (('vanity', 'fair'), 13.076024649493252), (('knowledgeable', 'source'), 12.077020825764047)]\n",
      "tokens_mf\n",
      "[(('new', 'york'), 37.181110600780904), (('joke', 'joke'), 34.35312036892257), ((\"'s\", \"'s\"), 27.915833677521153), (('test', 'positive'), 21.48346338760295), (('jennifer', \"'s\"), 21.054088670977883), (('los', 'angeles'), 20.776381686606396), (('dead', 'dead'), 20.269602360585765), (('hunger', 'games'), 19.924938539769535), (('ca', \"n't\"), 17.581688448836807), (('v.f', 'julia'), 16.71879018711114)]\n",
      "tokens_fm\n",
      "[(('world', 'war'), 17.86881452153527), (('famous', 'famous'), 16.94837325662612), (('tonight', 'show'), 12.859117612374046), (('fuck', 'fuck'), 11.337422467585245), (('late', 'night'), 10.048534997084861), (('gerry', 'lane'), 9.32800742531753), (('tells', 'robinson'), 9.10494352359152), (('kind', 'famous'), 8.308554144964484), (('new', 'york'), 7.787983662456103), (('jay', 'tells'), 6.667918563680924)]\n",
      "tokens_f\n",
      "[(('new', 'york'), 62.49325127299997), (('hunger', 'games'), 36.152681676864695), ((\"'s\", \"'s\"), 35.26155229684369), (('los', 'angeles'), 35.12670402900225), (('joke', 'joke'), 33.39666095303221), (('gon', 'na'), 27.074277601729086), (('vanity', 'fair'), 23.935869461723282), (('jennifer', \"'s\"), 23.340500115186348), (('test', 'positive'), 22.1292690036953), (('meryl', 'streep'), 21.80107048788365)]\n",
      "tokens_m\n",
      "[(('new', 'york'), 31.887297268814574), (('world', 'war'), 20.6446083184158), (('different', 'different'), 20.135009749426594), (('30', 'rock'), 19.656843236211174), (('famous', 'famous'), 17.353293512972005), (('los', 'angeles'), 15.891349877311326), (('gon', 'na'), 15.275722276531356), (('magic', 'mike'), 14.678695055836545), (('tonight', 'show'), 14.515912847340068), (('saturday', 'live'), 14.355136196000664)]\n"
     ]
    }
   ],
   "source": [
    "for t in tokens:\n",
    "    print(namestr(t)[0])\n",
    "    print(top_bigrams(t))"
   ]
  },
  {
   "cell_type": "code",
   "execution_count": 171,
   "metadata": {},
   "outputs": [
    {
     "data": {
      "text/plain": [
       "[(('author', 'date', 'headline'), 0.99609375),\n",
       " (('author_gender', 'year', 'text_length'), 0.99609375),\n",
       " (('celeb_gender', 'author_gender', 'year'), 0.99609375),\n",
       " (('date', 'headline', 'photographer'), 0.99609375),\n",
       " (('headline', 'photographer', 'stylist'), 0.99609375),\n",
       " (('interviewee', 'celeb_gender', 'author_gender'), 0.99609375),\n",
       " (('photographer', 'stylist', 'tags'), 0.99609375),\n",
       " (('stylist', 'tags', 'text'), 0.99609375),\n",
       " (('tags', 'text', 'url'), 0.99609375),\n",
       " (('text', 'url', 'url_check'), 0.99609375)]"
      ]
     },
     "execution_count": 171,
     "metadata": {},
     "output_type": "execute_result"
    }
   ],
   "source": [
    "top_trigrams(df_m)"
   ]
  },
  {
   "cell_type": "code",
   "execution_count": 313,
   "metadata": {},
   "outputs": [],
   "source": [
    "def get_double_quotes(df):\n",
    "    texts = df['text'].tolist()\n",
    "    count = 0\n",
    "    for text in texts:\n",
    "        count += texts[0].count('“')\n",
    "    return round(count/(2*len(df)))\n",
    "\n",
    "\n"
   ]
  },
  {
   "cell_type": "code",
   "execution_count": 314,
   "metadata": {},
   "outputs": [
    {
     "data": {
      "text/plain": [
       "14"
      ]
     },
     "execution_count": 314,
     "metadata": {},
     "output_type": "execute_result"
    }
   ],
   "source": [
    "get_double_quotes(df_mm)"
   ]
  },
  {
   "cell_type": "code",
   "execution_count": 315,
   "metadata": {},
   "outputs": [
    {
     "data": {
      "text/plain": [
       "16"
      ]
     },
     "execution_count": 315,
     "metadata": {},
     "output_type": "execute_result"
    }
   ],
   "source": [
    "get_double_quotes(df_fm)"
   ]
  },
  {
   "cell_type": "code",
   "execution_count": 316,
   "metadata": {},
   "outputs": [
    {
     "data": {
      "text/plain": [
       "28"
      ]
     },
     "execution_count": 316,
     "metadata": {},
     "output_type": "execute_result"
    }
   ],
   "source": [
    "get_double_quotes(df_ff)"
   ]
  },
  {
   "cell_type": "code",
   "execution_count": 317,
   "metadata": {},
   "outputs": [
    {
     "data": {
      "text/plain": [
       "34"
      ]
     },
     "execution_count": 317,
     "metadata": {},
     "output_type": "execute_result"
    }
   ],
   "source": [
    "get_double_quotes(df_mf)"
   ]
  },
  {
   "cell_type": "code",
   "execution_count": 123,
   "metadata": {},
   "outputs": [],
   "source": [
    "corpora = [tokens_mm, tokens_mf, tokens_ff, tokens_fm]\n",
    "stopwords = stopwords.words('english')\n",
    "corpora_s = []\n",
    "corpora_nons = []\n",
    "for corpus in corpora:\n",
    "    s = []\n",
    "    nons = []\n",
    "    for word in corpus:\n",
    "        if word in stopwords:\n",
    "            s.append(word)\n",
    "        else:\n",
    "            nons.append(word)\n",
    "    corpora_s.append(s)\n",
    "    corpora_nons.append(nons)\n",
    "    \n",
    "def kl_divergence(X, Y):\n",
    "    P = X.copy()\n",
    "    Q = Y.copy()\n",
    "    P.columns = ['P']\n",
    "    Q.columns = ['Q']\n",
    "    df = Q.join(P).fillna(0)\n",
    "    p = df.iloc[:,1]\n",
    "    q = df.iloc[:,0]\n",
    "    D_kl = scipy.stats.entropy(p, q)\n",
    "    return D_kl\n",
    "\n",
    "def chi2_divergence(X,Y):\n",
    "    P = X.copy()\n",
    "    Q = Y.copy()\n",
    "    P.columns = ['P']\n",
    "    Q.columns = ['Q']\n",
    "    df = Q.join(P).fillna(0)\n",
    "    p = df.iloc[:,1]\n",
    "    q = df.iloc[:,0]\n",
    "    return scipy.stats.chisquare(p, q).statistic\n",
    "\n",
    "def Divergence(corpus1, corpus2, difference=\"KL\"):\n",
    "    \"\"\"Difference parameter can equal KL, Chi2, or Wass\"\"\"\n",
    "    freqP = nltk.FreqDist(corpus1)\n",
    "    P = pandas.DataFrame(list(freqP.values()), columns = ['frequency'], index = list(freqP.keys()))\n",
    "    freqQ = nltk.FreqDist(corpus2)\n",
    "    Q = pandas.DataFrame(list(freqQ.values()), columns = ['frequency'], index = list(freqQ.keys()))\n",
    "    if difference == \"KL\":\n",
    "        return kl_divergence(P, Q)\n",
    "    elif difference == \"Chi2\":\n",
    "        return chi2_divergence(P, Q)\n",
    "    elif difference == \"KS\":\n",
    "        try:\n",
    "            return scipy.stats.ks_2samp(P['frequency'], Q['frequency']).statistic\n",
    "        except:\n",
    "            return scipy.stats.ks_2samp(P['frequency'], Q['frequency'])\n",
    "    elif difference == \"Wasserstein\":\n",
    "        try:\n",
    "            return scipy.stats.wasserstein_distance(P['frequency'], Q['frequency'], u_weights=None, v_weights=None).statistic\n",
    "        except:\n",
    "            return scipy.stats.wasserstein_distance(P['frequency'], Q['frequency'], u_weights=None, v_weights=None)"
   ]
  },
  {
   "cell_type": "code",
   "execution_count": 126,
   "metadata": {},
   "outputs": [
    {
     "data": {
      "image/png": "[encoded data removed]",
      "text/plain": [
       "<Figure size 432x288 with 2 Axes>"
      ]
     },
     "metadata": {},
     "output_type": "display_data"
    }
   ],
   "source": [
    "import pandas\n",
    "import scipy\n",
    "L = []\n",
    "for p in corpora:\n",
    "    l = []\n",
    "    for q in corpora:\n",
    "        l.append(Divergence(p,q, difference = 'KL'))\n",
    "    L.append(l)\n",
    "M = np.array(L)\n",
    "fig = plt.figure()\n",
    "div = pandas.DataFrame(M, columns = ['MM','MF','FF','FM'], index = ['MM','MF','FF','FM'])\n",
    "ax = sns.heatmap(div)\n",
    "plt.show()"
   ]
  },
  {
   "cell_type": "code",
   "execution_count": 127,
   "metadata": {},
   "outputs": [
    {
     "data": {
      "image/png": "[encoded data removed]",
      "text/plain": [
       "<Figure size 432x288 with 2 Axes>"
      ]
     },
     "metadata": {},
     "output_type": "display_data"
    }
   ],
   "source": [
    "fileids = ['MM','MF','FF','FM']\n",
    "L = []\n",
    "for p in corpora_nons:\n",
    "    l = []\n",
    "    for q in corpora_nons:\n",
    "        l.append(Divergence(p,q, difference='KL'))\n",
    "    L.append(l)\n",
    "M = np.array(L)\n",
    "fig = plt.figure()\n",
    "div = pandas.DataFrame(M, columns = fileids, index = fileids)\n",
    "ax = sns.heatmap(div)\n",
    "plt.show()"
   ]
  },
  {
   "cell_type": "code",
   "execution_count": 128,
   "metadata": {},
   "outputs": [
    {
     "data": {
      "image/png": "[encoded data removed]",
      "text/plain": [
       "<Figure size 432x288 with 2 Axes>"
      ]
     },
     "metadata": {},
     "output_type": "display_data"
    }
   ],
   "source": [
    "L = []\n",
    "for p in corpora_nons:\n",
    "    l = []\n",
    "    for q in corpora_nons:\n",
    "        l.append(Divergence(p,q, difference='KS'))\n",
    "    L.append(l)\n",
    "M = np.array(L)\n",
    "fig = plt.figure()\n",
    "div = pandas.DataFrame(M, columns = fileids, index = fileids)\n",
    "ax = sns.heatmap(div)\n",
    "plt.show()"
   ]
  },
  {
   "cell_type": "code",
   "execution_count": 129,
   "metadata": {},
   "outputs": [],
   "source": [
    "#All these packages need to be installed from pip\n",
    "#These are all for the cluster detection\n",
    "import sklearn\n",
    "import sklearn.feature_extraction.text\n",
    "import sklearn.pipeline\n",
    "import sklearn.preprocessing\n",
    "import sklearn.datasets\n",
    "import sklearn.cluster\n",
    "import sklearn.decomposition\n",
    "import sklearn.metrics\n",
    "\n",
    "import scipy #For hierarchical clustering and some visuals\n",
    "#import scipy.cluster.hierarchy\n",
    "import gensim#For topic modeling\n",
    "import nltk #the Natural Language Toolkit\n",
    "import requests #For downloading our datasets\n",
    "import numpy as np #for arrays\n",
    "import pandas #gives us DataFrames\n",
    "import matplotlib.pyplot as plt #For graphics\n",
    "import matplotlib.cm #Still for graphics\n",
    "import seaborn as sns #Makes the graphics look nicer"
   ]
  },
  {
   "cell_type": "code",
   "execution_count": 130,
   "metadata": {},
   "outputs": [
    {
     "name": "stdout",
     "output_type": "stream",
     "text": [
      "CPU times: user 1.48 s, sys: 26.6 ms, total: 1.51 s\n",
      "Wall time: 1.53 s\n"
     ]
    }
   ],
   "source": [
    "%%time\n",
    "df = plot_data\n",
    "# create count vector\n",
    "ngCountVectorizer = sklearn.feature_extraction.text.CountVectorizer()\n",
    "newsgroupsVects = ngCountVectorizer.fit_transform(df['text'])\n",
    "\n",
    "# tf-idf\n",
    "newsgroupsTFTransformer = sklearn.feature_extraction.text.TfidfTransformer().fit(newsgroupsVects)\n",
    "newsgroupsTF = newsgroupsTFTransformer.transform(newsgroupsVects)\n",
    "\n",
    "# # vectorize\n",
    "ngTFVectorizer = sklearn.feature_extraction.text.TfidfVectorizer(stop_words='english', norm='l2')\n",
    "newsgroupsTFVects = ngTFVectorizer.fit_transform(df['text'])\n",
    "\n",
    "\n",
    "# # k-means\n",
    "numClusters = 4\n",
    "\n",
    "km = sklearn.cluster.KMeans(n_clusters=numClusters, init='k-means++')\n",
    "km.fit(newsgroupsTFVects)"
   ]
  },
  {
   "cell_type": "code",
   "execution_count": 131,
   "metadata": {},
   "outputs": [
    {
     "name": "stdout",
     "output_type": "stream",
     "text": [
      "Top terms per cluster:\n",
      "Cluster 0:\n",
      " swift\n",
      " taylor\n",
      " said\n",
      " like\n",
      " nashville\n",
      " apple\n",
      " kennedy\n",
      " music\n",
      " songs\n",
      " conor\n",
      "\n",
      "\n",
      "Cluster 1:\n",
      " like\n",
      " says\n",
      " said\n",
      " just\n",
      " people\n",
      " tatum\n",
      " jolie\n",
      " don\n",
      " time\n",
      " think\n",
      "\n",
      "\n",
      "Cluster 2:\n",
      " cruise\n",
      " kidman\n",
      " scientology\n",
      " kashner\n",
      " miscavige\n",
      " boniadi\n",
      " nicole\n",
      " tom\n",
      " marriage\n",
      " river\n",
      "\n",
      "\n",
      "Cluster 3:\n",
      " lawrence\n",
      " like\n",
      " schumer\n",
      " larson\n",
      " hemsworth\n",
      " jennifer\n",
      " kate\n",
      " just\n",
      " says\n",
      " hunger\n",
      "\n",
      "\n"
     ]
    }
   ],
   "source": [
    "terms = ngTFVectorizer.get_feature_names()\n",
    "print(\"Top terms per cluster:\")\n",
    "order_centroids = km.cluster_centers_.argsort()[:, ::-1]\n",
    "for i in range(numClusters):\n",
    "    print(\"Cluster %d:\" % i)\n",
    "    for ind in order_centroids[i, :10]:\n",
    "        print(' %s' % terms[ind])\n",
    "    print('\\n')"
   ]
  },
  {
   "cell_type": "code",
   "execution_count": 132,
   "metadata": {},
   "outputs": [],
   "source": [
    "PCA = sklearn.decomposition.PCA\n",
    "pca = PCA(n_components = 2).fit(newsgroupsTFVects.toarray())\n",
    "reduced_data = pca.transform(newsgroupsTFVects.toarray())\n",
    "\n",
    "colordict = {'Male-Male': 'red','Male-Female': 'orange','Female-Female': 'green','Female-Male': 'blue'}\n",
    "colors = [colordict[c] for c in df['pair']]\n",
    "components = pca.components_\n",
    "keyword_ids = list(set(order_centroids[:,:10].flatten())) #Get the ids of the most distinguishing words(features) from your kmeans model.\n",
    "words = [terms[i] for i in keyword_ids]#Turn the ids into words.\n",
    "x = components[:,keyword_ids][0,:] #Find the coordinates of those words in your biplot.\n",
    "y = components[:,keyword_ids][1,:]"
   ]
  },
  {
   "cell_type": "code",
   "execution_count": 320,
   "metadata": {},
   "outputs": [
    {
     "data": {
      "image/png": "[encoded data removed]",
      "text/plain": [
       "<Figure size 720x432 with 1 Axes>"
      ]
     },
     "metadata": {},
     "output_type": "display_data"
    }
   ],
   "source": [
    "fig = plt.figure(figsize = (10,6))\n",
    "ax = fig.add_subplot(111)\n",
    "ax.set_frame_on(False)\n",
    "ax.scatter(reduced_data[:, 0], reduced_data[:, 1], color = colors, alpha = 0.3, label = colors)\n",
    "newsgroupsCategories = ['Male-Male', 'Male-Female', 'Female-Female','Female-Male']\n",
    "colors_p = [colordict[newsgroupsCategories[l]] for l in km.labels_]\n",
    "#for i, word in enumerate(words):\n",
    "#    ax.annotate(word, (x[i],y[i]))\n",
    "plt.xticks(())\n",
    "plt.yticks(())\n",
    "plt.title('True Classes')\n",
    "\n",
    "plt.show()\n"
   ]
  },
  {
   "cell_type": "code",
   "execution_count": 136,
   "metadata": {},
   "outputs": [
    {
     "data": {
      "image/png": "[encoded data removed]",
      "text/plain": [
       "<Figure size 720x432 with 1 Axes>"
      ]
     },
     "metadata": {},
     "output_type": "display_data"
    }
   ],
   "source": [
    "fig = plt.figure(figsize = (10,6))\n",
    "ax = fig.add_subplot(111)\n",
    "ax.set_frame_on(False)\n",
    "plt.scatter(reduced_data[:, 0], reduced_data[:, 1], color = colors_p, alpha = 0.5)\n",
    "plt.xticks(())\n",
    "plt.yticks(())\n",
    "plt.title('Predicted Clusters\\n k = 4')\n",
    "plt.show()"
   ]
  },
  {
   "cell_type": "code",
   "execution_count": 139,
   "metadata": {},
   "outputs": [],
   "source": [
    "def plotSilhouette(n_clusters, X):\n",
    "    fig, (ax1, ax2) = plt.subplots(ncols=2, figsize = (15,5))\n",
    "    \n",
    "    ax1.set_xlim([-0.1, 1])\n",
    "    ax1.set_ylim([0, len(X) + (n_clusters + 1) * 10])\n",
    "    clusterer = sklearn.cluster.KMeans(n_clusters=n_clusters, random_state=10)\n",
    "    cluster_labels = clusterer.fit_predict(X)\n",
    "    \n",
    "    silhouette_avg = sklearn.metrics.silhouette_score(X, cluster_labels)\n",
    "\n",
    "    # Compute the silhouette scores for each sample\n",
    "    sample_silhouette_values = sklearn.metrics.silhouette_samples(X, cluster_labels)\n",
    "\n",
    "    y_lower = 10\n",
    "    \n",
    "    for i in range(n_clusters):\n",
    "        ith_cluster_silhouette_values = sample_silhouette_values[cluster_labels == i]\n",
    "\n",
    "        ith_cluster_silhouette_values.sort()\n",
    "\n",
    "        size_cluster_i = ith_cluster_silhouette_values.shape[0]\n",
    "        y_upper = y_lower + size_cluster_i\n",
    "\n",
    "        color = matplotlib.cm.nipy_spectral(float(i) / n_clusters)\n",
    "        ax1.fill_betweenx(np.arange(y_lower, y_upper),\n",
    "                          0, ith_cluster_silhouette_values,\n",
    "                          facecolor=color, edgecolor=color, alpha=0.7)\n",
    "\n",
    "        ax1.text(-0.05, y_lower + 0.5 * size_cluster_i, str(i))\n",
    "\n",
    "        y_lower = y_upper + 10\n",
    "    \n",
    "    ax1.set_title(\"The silhouette plot for the various clusters.\")\n",
    "    ax1.set_xlabel(\"The silhouette coefficient values\")\n",
    "    ax1.set_ylabel(\"Cluster label\")\n",
    "\n",
    "    ax1.axvline(x=silhouette_avg, color=\"red\", linestyle=\"--\")\n",
    "    ax1.set_yticks([])  # Clear the yaxis labels / ticks\n",
    "    ax1.set_xticks([-0.1, 0, 0.2, 0.4, 0.6, 0.8, 1])\n",
    "\n",
    "    # 2nd Plot showing the actual clusters formed\n",
    "    colors = matplotlib.cm.nipy_spectral(cluster_labels.astype(float) / n_clusters)\n",
    "    ax2.scatter(reduced_data[:, 0], reduced_data[:, 1], marker='.', s=30, lw=0, alpha=0.7,\n",
    "                c=colors)\n",
    "\n",
    "    # Labeling the clusters\n",
    "    centers = clusterer.cluster_centers_\n",
    "    projected_centers = pca.transform(centers)\n",
    "    # Draw white circles at cluster centers\n",
    "    ax2.scatter(projected_centers[:, 0], projected_centers[:, 1],\n",
    "                marker='o', c=\"white\", alpha=1, s=200)\n",
    "\n",
    "    for i, c in enumerate(projected_centers):\n",
    "        ax2.scatter(c[0], c[1], marker='$%d$' % i, alpha=1, s=50)\n",
    "\n",
    "    ax2.set_title(\"The visualization of the clustered data.\")\n",
    "    ax2.set_xlabel(\"PC 1\")\n",
    "    ax2.set_ylabel(\"PC 2\")\n",
    "\n",
    "    plt.suptitle((\"Silhouette analysis for KMeans clustering on sample data \"\n",
    "                  \"with n_clusters = %d\" % n_clusters),\n",
    "                 fontsize=14, fontweight='bold')\n",
    "    plt.show()\n",
    "    print(\"For n_clusters = {}, The average silhouette_score is : {:.3f}\".format(n_clusters, silhouette_avg))\n",
    "    return silhouette_avg"
   ]
  },
  {
   "cell_type": "code",
   "execution_count": 140,
   "metadata": {},
   "outputs": [],
   "source": [
    "X = newsgroupsTFVects.toarray()\n",
    "\n"
   ]
  },
  {
   "cell_type": "code",
   "execution_count": 142,
   "metadata": {},
   "outputs": [
    {
     "data": {
      "image/png": "[encoded data removed]",
      "text/plain": [
       "<Figure size 1080x360 with 2 Axes>"
      ]
     },
     "metadata": {},
     "output_type": "display_data"
    },
    {
     "name": "stdout",
     "output_type": "stream",
     "text": [
      "For n_clusters = 2, The average silhouette_score is : 0.024\n"
     ]
    },
    {
     "data": {
      "image/png": "[encoded data removed]",
      "text/plain": [
       "<Figure size 1080x360 with 2 Axes>"
      ]
     },
     "metadata": {},
     "output_type": "display_data"
    },
    {
     "name": "stdout",
     "output_type": "stream",
     "text": [
      "For n_clusters = 3, The average silhouette_score is : 0.013\n"
     ]
    },
    {
     "data": {
      "image/png": "[encoded data removed]",
      "text/plain": [
       "<Figure size 1080x360 with 2 Axes>"
      ]
     },
     "metadata": {},
     "output_type": "display_data"
    },
    {
     "name": "stdout",
     "output_type": "stream",
     "text": [
      "For n_clusters = 4, The average silhouette_score is : 0.019\n"
     ]
    },
    {
     "data": {
      "image/png": "[encoded data removed]",
      "text/plain": [
       "<Figure size 1080x360 with 2 Axes>"
      ]
     },
     "metadata": {},
     "output_type": "display_data"
    },
    {
     "name": "stdout",
     "output_type": "stream",
     "text": [
      "For n_clusters = 5, The average silhouette_score is : 0.012\n"
     ]
    },
    {
     "data": {
      "image/png": "[encoded data removed]",
      "text/plain": [
       "<Figure size 1080x360 with 2 Axes>"
      ]
     },
     "metadata": {},
     "output_type": "display_data"
    },
    {
     "name": "stdout",
     "output_type": "stream",
     "text": [
      "For n_clusters = 15, The average silhouette_score is : 0.050\n"
     ]
    },
    {
     "data": {
      "text/plain": [
       "0.05017283675196637"
      ]
     },
     "execution_count": 142,
     "metadata": {},
     "output_type": "execute_result"
    }
   ],
   "source": [
    "plotSilhouette(2, X)\n",
    "\n",
    "plotSilhouette(3, X)\n",
    "\n",
    "plotSilhouette(4, X)\n",
    "\n",
    "\n",
    "plotSilhouette(5, X)\n",
    "plotSilhouette(15, X)\n",
    "\n",
    "\n"
   ]
  },
  {
   "cell_type": "code",
   "execution_count": 159,
   "metadata": {},
   "outputs": [],
   "source": [
    "newsgroupsTFVects[:100].todense()\n",
    "newsgroupsCoocMat = newsgroupsTFVects * newsgroupsTFVects.T\n",
    "#set the diagonal to 0 since we don't care how similar texts are to themselves\n",
    "newsgroupsCoocMat.setdiag(0)\n",
    "df = df.reset_index(drop=True)\n",
    "\n",
    "selectIndices = []\n",
    "indexToCat = []\n",
    "for c in set(df['pair']):\n",
    "    selectIndices += list(df[df['pair'] == c].index)[:1000]\n",
    "    indexToCat += [c] * 58\n",
    "    #.groupby('category').sum()\n",
    "subCoocMat = newsgroupsCoocMat[selectIndices,:][:,selectIndices]\n",
    "linkage_matrix = scipy.cluster.hierarchy.ward(subCoocMat.toarray())"
   ]
  },
  {
   "cell_type": "code",
   "execution_count": 160,
   "metadata": {},
   "outputs": [
    {
     "data": {
      "image/png": "[encoded data removed]",
      "text/plain": [
       "<Figure size 432x288 with 1 Axes>"
      ]
     },
     "metadata": {},
     "output_type": "display_data"
    }
   ],
   "source": [
    "dendDat = scipy.cluster.hierarchy.dendrogram(linkage_matrix, get_leaves=True)\n",
    "\n"
   ]
  },
  {
   "cell_type": "code",
   "execution_count": 158,
   "metadata": {},
   "outputs": [
    {
     "data": {
      "text/plain": [
       "58"
      ]
     },
     "execution_count": 158,
     "metadata": {},
     "output_type": "execute_result"
    }
   ],
   "source": [
    "len(plot_data)"
   ]
  },
  {
   "cell_type": "code",
   "execution_count": 151,
   "metadata": {},
   "outputs": [
    {
     "name": "stdout",
     "output_type": "stream",
     "text": [
      "The topics of the text: Cover Story: Jennifer Lawrence, A New Light\n",
      "are: [(1, 0.07560529), (2, 0.8117908), (3, 0.09828325)]\n"
     ]
    }
   ],
   "source": [
    "#Apply our functions\n",
    "senReleasesTraining = plot_data\n",
    "\n",
    "senTFVectorizer = sklearn.feature_extraction.text.TfidfVectorizer(max_df=5, min_df=2, stop_words='english', norm='l2')\n",
    "senTFVects = senTFVectorizer.fit_transform(senReleasesTraining['text'])\n",
    "#senTFVectorizer.vocabulary_.get('senat', 'Missing \"Senate\"')\n",
    "\n",
    "senReleasesTraining['tokenized_text'] = senReleasesTraining['text'].apply(lambda x: nltk.word_tokenize(x))\n",
    "senReleasesTraining['normalized_tokens'] = senReleasesTraining['tokenized_text'].apply(lambda x: lucem_illud.normalizeTokens(x, \n",
    "                                                                                                                            stopwordLst = lucem_illud.stop_words_basic, \n",
    "                                                                                                                            stemmer = lucem_illud.stemmer_basic))\n",
    "def dropMissing(wordLst, vocab):\n",
    "    return [w for w in wordLst if w in vocab]\n",
    "\n",
    "senReleasesTraining['reduced_tokens'] = senReleasesTraining['normalized_tokens'].apply(lambda x: dropMissing(x, senTFVectorizer.vocabulary_.keys()))\n",
    "\n",
    "dictionary = gensim.corpora.Dictionary(senReleasesTraining['reduced_tokens'])\n",
    "corpus = [dictionary.doc2bow(text) for text in senReleasesTraining['reduced_tokens']]\n",
    "\n",
    "gensim.corpora.MmCorpus.serialize('senate.mm', corpus)\n",
    "senmm = gensim.corpora.MmCorpus('senate.mm')\n",
    "\n",
    "senlda = gensim.models.ldamodel.LdaModel(corpus=senmm, id2word=dictionary, num_topics=10, alpha='auto', eta='auto')\n",
    "#senReleasesTraining.reset_index(inplace = True)\n",
    "sen1Bow = dictionary.doc2bow(senReleasesTraining['reduced_tokens'][0])\n",
    "sen1lda = senlda[sen1Bow]\n",
    "print(\"The topics of the text: {}\".format(senReleasesTraining['headline'][0]))\n",
    "print(\"are: {}\".format(sen1lda))"
   ]
  },
  {
   "cell_type": "code",
   "execution_count": 152,
   "metadata": {},
   "outputs": [
    {
     "name": "stdout",
     "output_type": "stream",
     "text": [
      "The topics of the text: Cover Story: Jennifer Lawrence, A New Light\n",
      "are: [(1, 0.0636101), (2, 0.8524506), (3, 0.072547965)]\n"
     ]
    }
   ],
   "source": [
    "#senReleasesTraining.reset_index(inplace = True)\n",
    "sen1Bow = dictionary.doc2bow(senReleasesTraining['reduced_tokens'][0])\n",
    "sen1lda = senlda[sen1Bow]\n",
    "print(\"The topics of the text: {}\".format(senReleasesTraining['headline'][0]))\n",
    "print(\"are: {}\".format(sen1lda))\n",
    "\n",
    "ldaDF = pandas.DataFrame({\n",
    "        'name' : senReleasesTraining['headline'],\n",
    "        'topics' : [senlda[dictionary.doc2bow(l)] for l in senReleasesTraining['reduced_tokens']]\n",
    "    })"
   ]
  },
  {
   "cell_type": "code",
   "execution_count": 154,
   "metadata": {},
   "outputs": [],
   "source": [
    "#Dict to temporally hold the probabilities\n",
    "topicsProbDict = {i : [0] * len(ldaDF) for i in range(senlda.num_topics)}\n",
    "\n",
    "#Load them into the dict\n",
    "for index, topicTuples in enumerate(ldaDF['topics']):\n",
    "    for topicNum, prob in topicTuples:\n",
    "        topicsProbDict[topicNum][index] = prob\n",
    "\n",
    "#Update the DataFrame\n",
    "for topicNum in range(senlda.num_topics):\n",
    "    ldaDF['topic_{}'.format(topicNum)] = topicsProbDict[topicNum]\n",
    "\n"
   ]
  },
  {
   "cell_type": "code",
   "execution_count": 156,
   "metadata": {},
   "outputs": [
    {
     "data": {
      "text/html": [
       "<div>\n",
       "<style scoped>\n",
       "    .dataframe tbody tr th:only-of-type {\n",
       "        vertical-align: middle;\n",
       "    }\n",
       "\n",
       "    .dataframe tbody tr th {\n",
       "        vertical-align: top;\n",
       "    }\n",
       "\n",
       "    .dataframe thead th {\n",
       "        text-align: right;\n",
       "    }\n",
       "</style>\n",
       "<table border=\"1\" class=\"dataframe\">\n",
       "  <thead>\n",
       "    <tr style=\"text-align: right;\">\n",
       "      <th></th>\n",
       "      <th>topic_0</th>\n",
       "      <th>topic_1</th>\n",
       "      <th>topic_2</th>\n",
       "      <th>topic_3</th>\n",
       "      <th>topic_4</th>\n",
       "      <th>topic_5</th>\n",
       "      <th>topic_6</th>\n",
       "      <th>topic_7</th>\n",
       "      <th>topic_8</th>\n",
       "      <th>topic_9</th>\n",
       "    </tr>\n",
       "  </thead>\n",
       "  <tbody>\n",
       "    <tr>\n",
       "      <th>21</th>\n",
       "      <td>0.000000</td>\n",
       "      <td>0.000000</td>\n",
       "      <td>0.457141</td>\n",
       "      <td>0.125565</td>\n",
       "      <td>0.012706</td>\n",
       "      <td>0</td>\n",
       "      <td>0.152058</td>\n",
       "      <td>0.23602</td>\n",
       "      <td>0.015454</td>\n",
       "      <td>0.0</td>\n",
       "    </tr>\n",
       "    <tr>\n",
       "      <th>39</th>\n",
       "      <td>0.000000</td>\n",
       "      <td>0.000000</td>\n",
       "      <td>0.000000</td>\n",
       "      <td>0.000000</td>\n",
       "      <td>0.862595</td>\n",
       "      <td>0</td>\n",
       "      <td>0.103244</td>\n",
       "      <td>0.00000</td>\n",
       "      <td>0.033398</td>\n",
       "      <td>0.0</td>\n",
       "    </tr>\n",
       "    <tr>\n",
       "      <th>42</th>\n",
       "      <td>0.000000</td>\n",
       "      <td>0.845991</td>\n",
       "      <td>0.000000</td>\n",
       "      <td>0.000000</td>\n",
       "      <td>0.000000</td>\n",
       "      <td>0</td>\n",
       "      <td>0.148369</td>\n",
       "      <td>0.00000</td>\n",
       "      <td>0.000000</td>\n",
       "      <td>0.0</td>\n",
       "    </tr>\n",
       "    <tr>\n",
       "      <th>46</th>\n",
       "      <td>0.000000</td>\n",
       "      <td>0.000000</td>\n",
       "      <td>0.000000</td>\n",
       "      <td>0.000000</td>\n",
       "      <td>0.000000</td>\n",
       "      <td>0</td>\n",
       "      <td>0.000000</td>\n",
       "      <td>0.00000</td>\n",
       "      <td>0.998886</td>\n",
       "      <td>0.0</td>\n",
       "    </tr>\n",
       "    <tr>\n",
       "      <th>51</th>\n",
       "      <td>0.000000</td>\n",
       "      <td>0.000000</td>\n",
       "      <td>0.998354</td>\n",
       "      <td>0.000000</td>\n",
       "      <td>0.000000</td>\n",
       "      <td>0</td>\n",
       "      <td>0.000000</td>\n",
       "      <td>0.00000</td>\n",
       "      <td>0.000000</td>\n",
       "      <td>0.0</td>\n",
       "    </tr>\n",
       "    <tr>\n",
       "      <th>0</th>\n",
       "      <td>0.000000</td>\n",
       "      <td>0.058834</td>\n",
       "      <td>0.847682</td>\n",
       "      <td>0.080674</td>\n",
       "      <td>0.000000</td>\n",
       "      <td>0</td>\n",
       "      <td>0.000000</td>\n",
       "      <td>0.00000</td>\n",
       "      <td>0.000000</td>\n",
       "      <td>0.0</td>\n",
       "    </tr>\n",
       "    <tr>\n",
       "      <th>1</th>\n",
       "      <td>0.649122</td>\n",
       "      <td>0.114658</td>\n",
       "      <td>0.127667</td>\n",
       "      <td>0.097246</td>\n",
       "      <td>0.010327</td>\n",
       "      <td>0</td>\n",
       "      <td>0.000000</td>\n",
       "      <td>0.00000</td>\n",
       "      <td>0.000000</td>\n",
       "      <td>0.0</td>\n",
       "    </tr>\n",
       "    <tr>\n",
       "      <th>2</th>\n",
       "      <td>0.000000</td>\n",
       "      <td>0.575220</td>\n",
       "      <td>0.037073</td>\n",
       "      <td>0.375908</td>\n",
       "      <td>0.000000</td>\n",
       "      <td>0</td>\n",
       "      <td>0.000000</td>\n",
       "      <td>0.00000</td>\n",
       "      <td>0.000000</td>\n",
       "      <td>0.0</td>\n",
       "    </tr>\n",
       "    <tr>\n",
       "      <th>3</th>\n",
       "      <td>0.041864</td>\n",
       "      <td>0.000000</td>\n",
       "      <td>0.941372</td>\n",
       "      <td>0.010925</td>\n",
       "      <td>0.000000</td>\n",
       "      <td>0</td>\n",
       "      <td>0.000000</td>\n",
       "      <td>0.00000</td>\n",
       "      <td>0.000000</td>\n",
       "      <td>0.0</td>\n",
       "    </tr>\n",
       "    <tr>\n",
       "      <th>5</th>\n",
       "      <td>0.023912</td>\n",
       "      <td>0.052181</td>\n",
       "      <td>0.157583</td>\n",
       "      <td>0.233448</td>\n",
       "      <td>0.015608</td>\n",
       "      <td>0</td>\n",
       "      <td>0.059362</td>\n",
       "      <td>0.00000</td>\n",
       "      <td>0.457515</td>\n",
       "      <td>0.0</td>\n",
       "    </tr>\n",
       "  </tbody>\n",
       "</table>\n",
       "</div>"
      ],
      "text/plain": [
       "     topic_0   topic_1   topic_2   topic_3   topic_4  topic_5   topic_6  \\\n",
       "21  0.000000  0.000000  0.457141  0.125565  0.012706        0  0.152058   \n",
       "39  0.000000  0.000000  0.000000  0.000000  0.862595        0  0.103244   \n",
       "42  0.000000  0.845991  0.000000  0.000000  0.000000        0  0.148369   \n",
       "46  0.000000  0.000000  0.000000  0.000000  0.000000        0  0.000000   \n",
       "51  0.000000  0.000000  0.998354  0.000000  0.000000        0  0.000000   \n",
       "0   0.000000  0.058834  0.847682  0.080674  0.000000        0  0.000000   \n",
       "1   0.649122  0.114658  0.127667  0.097246  0.010327        0  0.000000   \n",
       "2   0.000000  0.575220  0.037073  0.375908  0.000000        0  0.000000   \n",
       "3   0.041864  0.000000  0.941372  0.010925  0.000000        0  0.000000   \n",
       "5   0.023912  0.052181  0.157583  0.233448  0.015608        0  0.059362   \n",
       "\n",
       "    topic_7   topic_8  topic_9  \n",
       "21  0.23602  0.015454      0.0  \n",
       "39  0.00000  0.033398      0.0  \n",
       "42  0.00000  0.000000      0.0  \n",
       "46  0.00000  0.998886      0.0  \n",
       "51  0.00000  0.000000      0.0  \n",
       "0   0.00000  0.000000      0.0  \n",
       "1   0.00000  0.000000      0.0  \n",
       "2   0.00000  0.000000      0.0  \n",
       "3   0.00000  0.000000      0.0  \n",
       "5   0.00000  0.457515      0.0  "
      ]
     },
     "execution_count": 156,
     "metadata": {},
     "output_type": "execute_result"
    }
   ],
   "source": [
    "ldaDFV = ldaDF[:10][['topic_%d' %x for x in range(10)]]\n",
    "ldaDFVisN = ldaDF[:10][['name']]\n",
    "ldaDFVis = ldaDFV.as_matrix(columns=None)\n",
    "ldaDFVisNames = ldaDFVisN.as_matrix(columns=None)\n",
    "ldaDFV"
   ]
  },
  {
   "cell_type": "code",
   "execution_count": 157,
   "metadata": {},
   "outputs": [
    {
     "data": {
      "text/html": [
       "<div>\n",
       "<style scoped>\n",
       "    .dataframe tbody tr th:only-of-type {\n",
       "        vertical-align: middle;\n",
       "    }\n",
       "\n",
       "    .dataframe tbody tr th {\n",
       "        vertical-align: top;\n",
       "    }\n",
       "\n",
       "    .dataframe thead th {\n",
       "        text-align: right;\n",
       "    }\n",
       "</style>\n",
       "<table border=\"1\" class=\"dataframe\">\n",
       "  <thead>\n",
       "    <tr style=\"text-align: right;\">\n",
       "      <th></th>\n",
       "      <th>Topic_0</th>\n",
       "      <th>Topic_1</th>\n",
       "      <th>Topic_2</th>\n",
       "      <th>Topic_3</th>\n",
       "      <th>Topic_4</th>\n",
       "      <th>Topic_5</th>\n",
       "      <th>Topic_6</th>\n",
       "      <th>Topic_7</th>\n",
       "      <th>Topic_8</th>\n",
       "      <th>Topic_9</th>\n",
       "    </tr>\n",
       "  </thead>\n",
       "  <tbody>\n",
       "    <tr>\n",
       "      <th>0</th>\n",
       "      <td>like</td>\n",
       "      <td>say</td>\n",
       "      <td>say</td>\n",
       "      <td>like</td>\n",
       "      <td>like</td>\n",
       "      <td>say</td>\n",
       "      <td>like</td>\n",
       "      <td>say</td>\n",
       "      <td>said</td>\n",
       "      <td>like</td>\n",
       "    </tr>\n",
       "    <tr>\n",
       "      <th>1</th>\n",
       "      <td>say</td>\n",
       "      <td>like</td>\n",
       "      <td>like</td>\n",
       "      <td>say</td>\n",
       "      <td>said</td>\n",
       "      <td>like</td>\n",
       "      <td>said</td>\n",
       "      <td>like</td>\n",
       "      <td>like</td>\n",
       "      <td>said</td>\n",
       "    </tr>\n",
       "    <tr>\n",
       "      <th>2</th>\n",
       "      <td>year</td>\n",
       "      <td>said</td>\n",
       "      <td>said</td>\n",
       "      <td>said</td>\n",
       "      <td>say</td>\n",
       "      <td>said</td>\n",
       "      <td>say</td>\n",
       "      <td>said</td>\n",
       "      <td>say</td>\n",
       "      <td>say</td>\n",
       "    </tr>\n",
       "    <tr>\n",
       "      <th>3</th>\n",
       "      <td>want</td>\n",
       "      <td>know</td>\n",
       "      <td>time</td>\n",
       "      <td>want</td>\n",
       "      <td>time</td>\n",
       "      <td>year</td>\n",
       "      <td>want</td>\n",
       "      <td>want</td>\n",
       "      <td>think</td>\n",
       "      <td>year</td>\n",
       "    </tr>\n",
       "    <tr>\n",
       "      <th>4</th>\n",
       "      <td>said</td>\n",
       "      <td>year</td>\n",
       "      <td>think</td>\n",
       "      <td>think</td>\n",
       "      <td>year</td>\n",
       "      <td>work</td>\n",
       "      <td>year</td>\n",
       "      <td>know</td>\n",
       "      <td>time</td>\n",
       "      <td>time</td>\n",
       "    </tr>\n",
       "    <tr>\n",
       "      <th>5</th>\n",
       "      <td>think</td>\n",
       "      <td>film</td>\n",
       "      <td>make</td>\n",
       "      <td>look</td>\n",
       "      <td>want</td>\n",
       "      <td>look</td>\n",
       "      <td>day</td>\n",
       "      <td>time</td>\n",
       "      <td>know</td>\n",
       "      <td>new</td>\n",
       "    </tr>\n",
       "    <tr>\n",
       "      <th>6</th>\n",
       "      <td>make</td>\n",
       "      <td>want</td>\n",
       "      <td>love</td>\n",
       "      <td>know</td>\n",
       "      <td>look</td>\n",
       "      <td>think</td>\n",
       "      <td>know</td>\n",
       "      <td>play</td>\n",
       "      <td>film</td>\n",
       "      <td>look</td>\n",
       "    </tr>\n",
       "    <tr>\n",
       "      <th>7</th>\n",
       "      <td>time</td>\n",
       "      <td>look</td>\n",
       "      <td>year</td>\n",
       "      <td>year</td>\n",
       "      <td>work</td>\n",
       "      <td>know</td>\n",
       "      <td>play</td>\n",
       "      <td>look</td>\n",
       "      <td>year</td>\n",
       "      <td>day</td>\n",
       "    </tr>\n",
       "    <tr>\n",
       "      <th>8</th>\n",
       "      <td>thing</td>\n",
       "      <td>think</td>\n",
       "      <td>life</td>\n",
       "      <td>way</td>\n",
       "      <td>know</td>\n",
       "      <td>thing</td>\n",
       "      <td>make</td>\n",
       "      <td>thing</td>\n",
       "      <td>want</td>\n",
       "      <td>love</td>\n",
       "    </tr>\n",
       "    <tr>\n",
       "      <th>9</th>\n",
       "      <td>play</td>\n",
       "      <td>make</td>\n",
       "      <td>know</td>\n",
       "      <td>time</td>\n",
       "      <td>thing</td>\n",
       "      <td>time</td>\n",
       "      <td>swift</td>\n",
       "      <td>work</td>\n",
       "      <td>thing</td>\n",
       "      <td>know</td>\n",
       "    </tr>\n",
       "  </tbody>\n",
       "</table>\n",
       "</div>"
      ],
      "text/plain": [
       "  Topic_0 Topic_1 Topic_2 Topic_3 Topic_4 Topic_5 Topic_6 Topic_7 Topic_8  \\\n",
       "0    like     say     say    like    like     say    like     say    said   \n",
       "1     say    like    like     say    said    like    said    like    like   \n",
       "2    year    said    said    said     say    said     say    said     say   \n",
       "3    want    know    time    want    time    year    want    want   think   \n",
       "4    said    year   think   think    year    work    year    know    time   \n",
       "5   think    film    make    look    want    look     day    time    know   \n",
       "6    make    want    love    know    look   think    know    play    film   \n",
       "7    time    look    year    year    work    know    play    look    year   \n",
       "8   thing   think    life     way    know   thing    make   thing    want   \n",
       "9    play    make    know    time   thing    time   swift    work   thing   \n",
       "\n",
       "  Topic_9  \n",
       "0    like  \n",
       "1    said  \n",
       "2     say  \n",
       "3    year  \n",
       "4    time  \n",
       "5     new  \n",
       "6    look  \n",
       "7     day  \n",
       "8    love  \n",
       "9    know  "
      ]
     },
     "execution_count": 157,
     "metadata": {},
     "output_type": "execute_result"
    }
   ],
   "source": [
    "topicsDict = {}\n",
    "for topicNum in range(senlda.num_topics):\n",
    "    topicWords = [w for w, p in senlda.show_topic(topicNum)]\n",
    "    topicsDict['Topic_{}'.format(topicNum)] = topicWords\n",
    "\n",
    "wordRanksDF = pandas.DataFrame(topicsDict)\n",
    "wordRanksDF"
   ]
  },
  {
   "cell_type": "code",
   "execution_count": null,
   "metadata": {},
   "outputs": [],
   "source": []
  }
 ],
 "metadata": {
  "anaconda-cloud": {},
  "kernelspec": {
   "display_name": "Python [default]",
   "language": "python",
   "name": "python3"
  },
  "language_info": {
   "codemirror_mode": {
    "name": "ipython",
    "version": 3
   },
   "file_extension": ".py",
   "mimetype": "text/x-python",
   "name": "python",
   "nbconvert_exporter": "python",
   "pygments_lexer": "ipython3",
   "version": "3.5.2"
  }
 },
 "nbformat": 4,
 "nbformat_minor": 2
}
