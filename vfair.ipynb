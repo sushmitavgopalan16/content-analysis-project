{
 "cells": [
  {
   "cell_type": "code",
   "execution_count": 1,
   "metadata": {},
   "outputs": [
    {
     "name": "stdout",
     "output_type": "stream",
     "text": [
      "[nltk_data] Downloading package stopwords to\n",
      "[nltk_data]     /Users/sushmitavgopalan/nltk_data...\n",
      "[nltk_data]   Package stopwords is already up-to-date!\n"
     ]
    },
    {
     "data": {
      "text/plain": [
       "True"
      ]
     },
     "execution_count": 1,
     "metadata": {},
     "output_type": "execute_result"
    }
   ],
   "source": [
    "import pandas as pd\n",
    "import numpy as np\n",
    "import requests\n",
    "from bs4 import BeautifulSoup\n",
    "from urllib.request import urlopen\n",
    "import re\n",
    "import time\n",
    "import warnings\n",
    "from wordcloud import WordCloud\n",
    "%matplotlib inline\n",
    "\n",
    "import matplotlib.pyplot as plt\n",
    "warnings.filterwarnings('ignore')\n",
    "\n",
    "import nltk\n",
    "from nltk.corpus import stopwords\n",
    "from nltk.tokenize import word_tokenize\n",
    "nltk.download('stopwords')"
   ]
  },
  {
   "cell_type": "code",
   "execution_count": 2,
   "metadata": {},
   "outputs": [],
   "source": [
    "data = {'headline': [], 'author': [], 'text': [], 'date': [], 'magazine':[],'keywords':[]}\n",
    "\n",
    "def extract_details(url,data):\n",
    "    p = urlopen(url)\n",
    "    s = BeautifulSoup(p)\n",
    "    t = s.find_all('script', type=\"application/ld+json\")\n",
    "    d = eval(t[0].contents[0])\n",
    "    try:\n",
    "        if d['headline'] and d['author'][0]['name'] and d['articleBody'] and d['datePublished']:\n",
    "            data['headline'].append(d['headline'])\n",
    "            data['author'].append(d['author'][0]['name'])\n",
    "            data['text'].append(d['articleBody'])\n",
    "            data['date'].append(d['datePublished'])\n",
    "            data['magazine'].append('Rolling Stone')\n",
    "            \n",
    "            meta = s.find_all('meta')\n",
    "            \n",
    "            for tag in meta:\n",
    "                if 'name' in tag.attrs.keys() and tag.attrs['name'].strip().lower() == 'news_keywords':\n",
    "                    data['keywords'].append(tag.attrs['content'])\n",
    "    except:\n",
    "        pass\n",
    "    return"
   ]
  },
  {
   "cell_type": "code",
   "execution_count": 3,
   "metadata": {},
   "outputs": [],
   "source": [
    "urls = [\"https://www.vanityfair.com/hollywood/2016/07/margot-robbie-cover-story\",\n",
    "        \"https://www.vanityfair.com/hollywood/2018/02/jennifer-lawrence-cover-story\",\n",
    "       \"https://www.vanityfair.com/hollywood/2018/01/emily-blunt-cover-story\",\n",
    "        \"https://www.vanityfair.com/style/2017/09/meghan-markle-cover-story\",\n",
    "        \"https://www.vanityfair.com/hollywood/2017/07/angelina-jolie-cover-story\",\n",
    "        \"https://www.vanityfair.com/news/2000/08/heath200008\",\n",
    "        \n",
    "       ]\n",
    "        "
   ]
  },
  {
   "cell_type": "code",
   "execution_count": 4,
   "metadata": {},
   "outputs": [],
   "source": [
    "def get_text(url):\n",
    "    p = urlopen(url)\n",
    "    s = BeautifulSoup(p)\n",
    "\n",
    "    r = requests.get(url)\n",
    "    soup = BeautifulSoup(r.text, 'lxml')\n",
    "    a = len(soup.find_all('p'))\n",
    "    text = \"\"\n",
    "    for i in range(0, a):\n",
    "        text = text + soup.find_all('p')[i].text + \" \"\n",
    "        text = text.replace(\"\\n\",\" \")\n",
    "    return text\n"
   ]
  },
  {
   "cell_type": "code",
   "execution_count": 7,
   "metadata": {},
   "outputs": [
    {
     "ename": "NameError",
     "evalue": "name 'word_tokens' is not defined",
     "output_type": "error",
     "traceback": [
      "\u001b[0;31m---------------------------------------------------------------------------\u001b[0m",
      "\u001b[0;31mNameError\u001b[0m                                 Traceback (most recent call last)",
      "\u001b[0;32m<ipython-input-7-45904795330b>\u001b[0m in \u001b[0;36m<module>\u001b[0;34m()\u001b[0m\n\u001b[1;32m     12\u001b[0m     \u001b[0mplt\u001b[0m\u001b[0;34m.\u001b[0m\u001b[0mshow\u001b[0m\u001b[0;34m(\u001b[0m\u001b[0;34m)\u001b[0m\u001b[0;34m\u001b[0m\u001b[0m\n\u001b[1;32m     13\u001b[0m \u001b[0;34m\u001b[0m\u001b[0m\n\u001b[0;32m---> 14\u001b[0;31m \u001b[0mfiltered_sentence\u001b[0m \u001b[0;34m=\u001b[0m \u001b[0;34m[\u001b[0m\u001b[0mw\u001b[0m \u001b[0;32mfor\u001b[0m \u001b[0mw\u001b[0m \u001b[0;32min\u001b[0m \u001b[0mword_tokens\u001b[0m \u001b[0;32mif\u001b[0m \u001b[0;32mnot\u001b[0m \u001b[0mw\u001b[0m \u001b[0;32min\u001b[0m \u001b[0mstop_words\u001b[0m\u001b[0;34m]\u001b[0m\u001b[0;34m\u001b[0m\u001b[0m\n\u001b[0m\u001b[1;32m     15\u001b[0m \u001b[0;34m\u001b[0m\u001b[0m\n\u001b[1;32m     16\u001b[0m \u001b[0;34m\u001b[0m\u001b[0m\n",
      "\u001b[0;31mNameError\u001b[0m: name 'word_tokens' is not defined"
     ]
    }
   ],
   "source": [
    "def make_wc(sortedTargets):\n",
    "    bag = sortedTargets\n",
    "    d = {}\n",
    "    for a, x in bag:\n",
    "        d[a] = x\n",
    "\n",
    "    wordcloud = WordCloud()\n",
    "    wordcloud.generate_from_frequencies(frequencies=d)\n",
    "    plt.figure()\n",
    "    plt.imshow(wordcloud, interpolation=\"bilinear\")\n",
    "    plt.axis(\"off\")\n",
    "    plt.show()\n",
    "\n",
    "\n",
    "\n",
    "def word_count(words):\n",
    "    counts = dict()\n",
    "    for word in words:\n",
    "        if word in counts:\n",
    "            counts[word] += 1\n",
    "        else:\n",
    "            counts[word] = 1\n",
    "    sortedTargets = sorted(counts.items(), key = lambda x: x[1], reverse = True)\n",
    "\n",
    "    return sortedTargets\n",
    "\n",
    "#make_wc(word_count(filtered_sentence))"
   ]
  },
  {
   "cell_type": "code",
   "execution_count": 8,
   "metadata": {},
   "outputs": [
    {
     "ename": "NameError",
     "evalue": "name 'text' is not defined",
     "output_type": "error",
     "traceback": [
      "\u001b[0;31m---------------------------------------------------------------------------\u001b[0m",
      "\u001b[0;31mNameError\u001b[0m                                 Traceback (most recent call last)",
      "\u001b[0;32m<ipython-input-8-e0e445336dae>\u001b[0m in \u001b[0;36m<module>\u001b[0;34m()\u001b[0m\n\u001b[0;32m----> 1\u001b[0;31m \u001b[0mexample_sent\u001b[0m \u001b[0;34m=\u001b[0m \u001b[0mtext\u001b[0m\u001b[0;34m\u001b[0m\u001b[0m\n\u001b[0m\u001b[1;32m      2\u001b[0m \u001b[0;34m\u001b[0m\u001b[0m\n\u001b[1;32m      3\u001b[0m \u001b[0mstop_words\u001b[0m \u001b[0;34m=\u001b[0m \u001b[0mset\u001b[0m\u001b[0;34m(\u001b[0m\u001b[0mstopwords\u001b[0m\u001b[0;34m.\u001b[0m\u001b[0mwords\u001b[0m\u001b[0;34m(\u001b[0m\u001b[0;34m'english'\u001b[0m\u001b[0;34m)\u001b[0m\u001b[0;34m)\u001b[0m\u001b[0;34m\u001b[0m\u001b[0m\n\u001b[1;32m      4\u001b[0m \u001b[0;34m\u001b[0m\u001b[0m\n\u001b[1;32m      5\u001b[0m \u001b[0mword_tokens\u001b[0m \u001b[0;34m=\u001b[0m \u001b[0mword_tokenize\u001b[0m\u001b[0;34m(\u001b[0m\u001b[0mexample_sent\u001b[0m\u001b[0;34m)\u001b[0m\u001b[0;34m\u001b[0m\u001b[0m\n",
      "\u001b[0;31mNameError\u001b[0m: name 'text' is not defined"
     ]
    }
   ],
   "source": [
    "example_sent = text\n",
    "\n",
    "stop_words = set(stopwords.words('english'))\n",
    " \n",
    "word_tokens = word_tokenize(example_sent)\n",
    " \n",
    "filtered_sentence = [w for w in word_tokens if not w in stop_words]\n",
    "\n",
    "\n",
    "filtered_sentence = []\n",
    " \n",
    "for w in word_tokens:\n",
    "    if w not in stop_words:\n",
    "        filtered_sentence.append(w)\n",
    " "
   ]
  },
  {
   "cell_type": "code",
   "execution_count": 9,
   "metadata": {},
   "outputs": [
    {
     "data": {
      "text/plain": [
       "['http://video.vanityfair.com',\n",
       " 'http://www.vanityfair.co.uk/',\n",
       " 'http://www.vanityfair.mx/',\n",
       " 'http://www.revistavanityfair.es/',\n",
       " 'http://www.condenastmediakit.com/vf/',\n",
       " 'http://promotions.vf.com/']"
      ]
     },
     "execution_count": 9,
     "metadata": {},
     "output_type": "execute_result"
    }
   ],
   "source": [
    "url = \"https://www.vanityfair.com/search?q=cover+story\"\n",
    "def get_links(url):\n",
    "   \n",
    "    page = urlopen(url)\n",
    "    soup = BeautifulSoup(page)\n",
    "    links = []\n",
    " \n",
    "    for link in soup.findAll('a', attrs={'href': re.compile(\"^http://\")}):\n",
    "        links.append(link.get('href'))\n",
    " \n",
    "    return links\n",
    "\n",
    "get_links(url)"
   ]
  },
  {
   "cell_type": "code",
   "execution_count": 14,
   "metadata": {},
   "outputs": [],
   "source": [
    "import requests\n",
    "from bs4 import BeautifulSoup\n",
    "page = requests.get(\"https://www.google.com/search?q=vanity+fair+cover+story&ei=qPGaWueBK8bYjwS-zLi4Ag&start=10&sa=N&biw=1280&bih=570\")\n",
    "soup = BeautifulSoup(page.content)\n",
    "import re\n",
    "links = soup.findAll(\"a\")\n",
    "results = []\n",
    "for link in  soup.find_all(\"a\",href=re.compile(\"(?<=/url\\?q=)(htt.*://.*)\")):\n",
    "    results.append(re.split(\":(?=http)\",link[\"href\"].replace(\"/url?q=\",\"\")))\n",
    "\n",
    "flatten = lambda l: [item for sublist in l for item in sublist]\n",
    "results = flatten(results)\n"
   ]
  },
  {
   "cell_type": "code",
   "execution_count": 11,
   "metadata": {},
   "outputs": [],
   "source": [
    "clean_results = []\n",
    "for result in results:\n",
    "    if \"https://www.vanityfair.com\" in result and \"-cover-story\" in result:\n",
    "        url = result.split(\"cover-story\")[0] + \"cover-story\"\n",
    "        if url not in clean_results:\n",
    "            clean_results.append(url)\n",
    "            \n",
    "interviews = []\n",
    "for result in (clean_results):\n",
    "    try:\n",
    "        interviews.append(get_text(result))\n",
    "    except:\n",
    "        pass"
   ]
  },
  {
   "cell_type": "code",
   "execution_count": 12,
   "metadata": {},
   "outputs": [
    {
     "data": {
      "text/plain": [
       "0"
      ]
     },
     "execution_count": 12,
     "metadata": {},
     "output_type": "execute_result"
    }
   ],
   "source": [
    "len(interviews)"
   ]
  },
  {
   "cell_type": "code",
   "execution_count": 57,
   "metadata": {},
   "outputs": [
    {
     "data": {
      "text/plain": [
       "'When Adele sings you can hear that it’s coming from an unfiltered honesty and purity. She creates songs that go deep and expose pain and vulnerability with her soulful voice. She takes you places other artists don’t go to anymore—the way they did in the ‘70s. —BEYONCÉ I swear to god I laugh at every big thing that happens in my career. I laugh out loud because I think it’s fuckin’ ridiculous. At some point, the director of The Truman Show is going to come and say this is a sequel. —ADELE The black Porsche Cayenne S.U.V. pulls up to the driveway of my hotel. Adele is behind the wheel and alone in the car. When I get in, she tells me she loves to drive on her own—although there is a discreet security detail in the vehicle in front of us. We’re on our way to Staples Center for the second of eight sold-out L.A. concerts on her current, 43-city world tour. She’s wearing a flouncy white cotton top over black leggings and beige flats. A Van Cleef & Arpels bracelet with colored round jewels is on her right arm. Her hair is pulled up off her face in a loose bun, her huge green eyes are covered by sunglasses, and, makeup-free, she is naturally gorgeous. She is gregarious and totally at ease, and we immediately start to talk about L.A. She recently purchased a house in Beverly Hills, because she spends so much time recording here and got tired of renting houses that weren’t properly baby-proofed, or private enough, or the pool was broken, and it was a waste of money. At the previous night’s concert she gave a shout-out to her new favorite L.A. supermarket—Bristol Farms. She raves about their balsamic cheese (“I ate the whole thing”), and we somehow segue into grooming. She shows me her long fake nails, which she says are coming off straight after the tour. She says she waited weeks to get her eyebrows shaped because the only woman she’ll let touch them lives in L.A. And how, after a month, she shaved her legs because she thought people in the front row at her concerts might notice them when she runs up the stairs to the stage. I ask if Simon Konecki (her boyfriend of five years and the father of their four-year-old son, Angelo) minded her unshaven legs. “He has no choice,” she says. “I’ll have no man telling me to shave my fuckin’ legs. Shave yours.” We’re in the car for about 10 minutes when she starts talking about the joys and conflicts of motherhood. I say it was brave of her to have a child in the midst of such a big, successful career. “Actually,” she says, “I think it’s the bravest thing not to have a child; all my friends and I felt pressurized into having kids, because that’s what adults do. I love my son more than anything, but on a daily basis, if I have a minute or two, I wish I could do whatever the fuck I wanted, whenever I want. Every single day I feel like that.” I ask if she wants more children. She says she doesn’t think so. I say women often want to give their child a sibling, but since Simon has a daughter from a former marriage who is very much a part of their lives, Angelo already has a sister. “Exactly,” she says, “so that’s my get-out-of-jail-free card. I’m too scared. I had really bad postpartum depression after I had my son, and it frightened me.” Did she take antidepressants? “No, no, no, no. But also, I didn’t talk to anyone about it. I was very reluctant . . . . My boyfriend said I should talk to other women who were pregnant, and I said, ‘Fuck that, I ain’t hanging around with a fuckin’ bunch of mothers.’ Then, without realizing it, I was gravitating towards pregnant women and other women with children, because I found they’re a bit more patient. You’ll be talking to someone, but you’re not really listening, because you’re so fuckin’ tired. “My friends who didn’t have kids would get annoyed with me,” she continues, “whereas I knew I could just sit there and chat absolute mush with my friends who had children, and we wouldn’t judge each other. One day I said to a friend, ‘I fuckin’ hate this,’ and she just burst into tears and said, ‘I fuckin’ hate this, too.’ And it was done. It lifted. My knowledge of postpartum—or post-natal, as we call it in England—is that you don’t want to be with your child; you’re worried you might hurt your child; you’re worried you weren’t doing a good job. But I was obsessed with my child. I felt very inadequate; I felt like I’d made the worst decision of my life . . . . It can come in many different forms. Eventually I just said, I’m going to give myself an afternoon a week, just to do whatever the fuck I want without my baby. A friend of mine said, ‘Really? Don’t you feel bad?’ I said, I do, but not as bad as I’d feel if I didn’t do it. Four of my friends felt the same way I did, and everyone was too embarrassed to talk about it; they thought everyone would think they were a bad mom, and it’s not the case. It makes you a better mom if you give yourself a better time. I’m enjoying touring, but at times I feel guilty because I’m doing this massive tour, and even though my son is with me all the time, on certain nights I can’t put him to bed. I never feel guilty when I’m not working. You’re constantly trying to make up for stuff when you’re a mom. I don’t mind, because of the love I feel for him . . . . I don’t care if I don’t ever get to do anything for myself again.” And while she does, of course, have a nanny, she is adamantly not one of those celebrity mothers who hands the kid off to a caretaker after a photo op in a fake playground. We talk about the U.S. presidential election. “We only know Trump from The Apprentice,” she says, “so we think a reality star is running for president. I just don’t think anybody should be building walls or shit like that right now. I think we need to look after each other. Everyone must vote.” She tells me how, when she couldn’t speak for seven weeks following vocal surgery in 2011, “I wrote everything down. Which is nice, because it was the beginning of my relationship with my boyfriend, and now we have a record of all that for our kids.” She adds that she and Simon are not married, and she doesn’t need it; she thinks having a child together is the bigger commitment. And in her “real,” non-work life, she is fiercely private and so protective of her son that, she says, “I’d sue the fuckin’ ass off anyone that comes anywhere near my child.” As we pull into the backstage area of Staples Center, she—a 10-time Grammy winner—says she’s “nostalgic” about this arena because the award show is held here. We walk into her large, private dressing room, and I note that she’s taller than I imagined—she tells me she’s five feet nine. She takes off her shoes and walks barefoot on the carpet. The room has white flowing curtains, large sofas, and a TV screen on a wall. In one part of the room a child’s play area is set up with a toy motorcycle, a toy kitchen with little pots and pans and cups and saucers, games, a Crayola box, and books. Rose- and Baies-scented candles are lit, and there’s a full makeup table in another corner. She says we have 20 more minutes to talk, then she has to do her sound check for 10 minutes, then vocal warm-ups for another 10, then we can talk again while she’s having her makeup done. I ask if she’s always this organized. She admits she’s always been in full control and comfortable in her skin. “It’s probably from my upbringing. I come from a very big family of a lot of women who did everything on their own.” (Later, her manager, Jonathan Dickins—the only person she says she completely trusts besides her boyfriend—tells me, “I met her when she lived [in London’s Brixton] above a convenience store, next to a gas station, and she would walk into a room and not give a fuck if she was speaking to the janitor or the head of the record label. That was her at 18 and that’s her at 28: completely unflappable, completely her own woman.”) Adele says, “My entire life revolves around my child, so everything is timed, because he’s on a routine.” “I COME FROM A VERY BIG FAMILY OF A LOT OF WOMEN WHO DID EVERYTHING ON THEIR OWN.” We sit on the sofa, and I ask her if she still has her previously well-documented stage fright. “In a different way,” she says. “I get nervous, as opposed to the projectile vomiting and trying to avoid the stage.” She says she didn’t have to tour, and she doesn’t understand why people are addicted to touring. “I’d still like to make records, but I’d be fine if I never heard [the applause] again. I’m on tour simply to see everyone who’s been so supportive. I don’t care about money. I’m British, and we don’t have that . . . thing of having to earn more money all the time. I don’t come from money; it’s not that important a part of my life. Obviously I have nice things, and I live in a nicer area than I grew up in. That was my goal from the age of seven: it was ‘I ain’t living here.’ I didn’t care how I was getting out, I didn’t care where I’d be living, but I knew I wasn’t living there. I love being famous for my songs, but I don’t enjoy being in the public eye. I love to make music, and I love doing shows, and I needed to go back to work—not for money but because something was missing. I wasn’t creating music. But there is such a massive difference between what I do for my work and what I do in my real life. I don’t think anyone should be famous for going to a grocery store or a playground.” She tells me that, when she first got famous, people in her family sold stories about her, and friends from childhood sold photos. “I appreciate when there’s money [involved],” she says, “but you could go get a job. The problem is you can’t talk about the downside of fame, because people have hope, and they cling to the hope of what it would be like to be famous, to be adored, to be able to create and do nice things.” Also, she adds, “money makes everyone act so bizarrely. It’s like they become intimidated by it, like I’m wearing my fuckin’ money.” FACE IT Adele, ready for her close-up. A note here about her laugh, which comes often and has been described as a “cackle,” but is really more a raucous burst of appreciation at something either she or someone else has said. According to Beyoncé, “It is so easy to talk to her and be around her. She’s funny as hell and her comebacks are legendary. The most beautiful thing about Adele is that she has her priorities straight. She is a gracious woman and the most humble human being I’ve ever met.” Adele Laurie Blue Adkins was born 28 years ago in Tottenham, London, and was raised mostly by her single mother, Penny, with help from her paternal grandparents. At the age of seven she knew she could carry a tune and spent years in her room impersonating the British singer Gabrielle and the Spice Girls. She graduated from the BRIT School for Performing Arts and Technology in 2006 and was quickly “discovered” from a demo on MySpace and signed at the age of 18 to the British alternative label XL. At that same time, she made her management deal with Dickins—who comes from a British music-business family—and they’ve been a team ever since. In 2008 she released her debut album, 19, with its smash hit “Chasing Pavements,” and an October 2008 appearance on Saturday Night Live (the night Sarah Palin was on) kickstarted her career in the U.S.—where her album has since gone triple platinum. Prior to the release of 19, when she wanted to make a North American record deal, she went to Columbia Records, whose chairman and C.E.O., Rob Stringer, says, “She walked down our corridor, a cigarette in her mouth, and she saw the photos of Barbra Streisand, Bob Dylan, and Beyoncé on the wall, and she was like, literally, ‘Yeah, I’ll be all right here.’ ” She won two Grammys in 2009, and the rest is a steady, extraordinary decade-long rise for a singer who doesn’t dance, doesn’t do big production numbers, doesn’t dress like a fairground stripper, doesn’t lip-synch, doesn’t endorse any commercial products, and refreshingly doesn’t use the words “my brand.” Rob Stringer says, “She has time to really think about her music, because she’s not spending all that time doing private gigs or Coke commercials.” “THERE IS SUCH A MASSIVE DIFFERENCE BETWEEN WHAT I DO FOR MY WORK AND WHAT I DO IN MY REAL LIFE.” All this led to huge record sales at a time when people stopped buying records. In January 2011 she released her sophomore album, 21—with the smash singles “Rolling in the Deep” and “Someone Like You.” It held the No. 1 spot on the Billboard charts for 24 weeks and was in the Top Five of the charts for 39 consecutive weeks—the most in *Billboard’*s history. In 2011 and 2012, 21 sold more albums worldwide in a two-year period than any since Michael Jackson’s Thriller, in 1983 and 1984. And 21 has sold 35 million to date. She swept the 2012 Grammys with six awards, including Record, Song, and Album of the Year. Producer Rick Rubin, who worked with her on 21, says, “Besides her once-in-a-lifetime voice, Adele has a pure songwriting gift. We always discussed how to get the most out of the songs, never to settle. All the songs always started with her; sometimes she liked having a collaborator to help get it over the finish line, but all of her best work comes directly from her.” In December 2013, Prince Charles presented Adele with Britain’s M.B.E. for Services to Music. Her third album, 2015’s 25, spent 10 weeks at the top of the U.S. charts; the video for the first single (“Hello”) was viewed 1.6 million times per hour the first two days of its release. And recently, unconfirmed rumors had it that she renegotiated her Columbia deal for an unprecedented sum of $130 million. According to Stringer, “This year, 25 has sold 10 million physical and digital albums—easily twice that of any other artist.” Adele also won an Oscar for her James Bond theme, “Skyfall,” in 2013, her television special, Adele Live in New York City, was nominated for four Emmys, and she is expected to receive multiple Grammy nominations this year for 25. According to her friend the late-night TV host James Corden, whose “Carpool Karaoke” segment with Adele has had more than 130 million online views, “She is the biggest star on the planet, and yet she’s still in the world with us. As a performer, she represents us; so many of the feelings she expresses in her songs are feelings that we all have. She is true to herself and completely authentic.” HELLO, IT’S ME Adele emerges from a pool. The day after Adele’s second L.A. concert, on her day off, we meet in a private room at the Soho House for lunch. She arrives exactly on time, wearing a black tunic and gladiator sandals. Her hair is up and, once again, she’s makeup-free. She says she can’t drink caffeine anymore, orders a decaf latte and some avocado-on-toast sandwich situation, and shares my French fries. She checks her phone only once—to make sure her son is napping—and we talk for over two hours. We discuss her show and how she manages to make an arena seem intimate. She brings people up from the audience onto the stage for a hug or, in the case of the night before, a plug—when she brought up a drag-queen Adele impersonator named Delta Work, who shamelessly announced her own upcoming appearances to the audience. The real Adele alternates four identical sequined Burberry gowns for her concerts, and after the show she makes a quick change to get in the car and drive home with Simon. “It’s like America’s Got Talent,” she says. “I climb out of my Spanx.” She gets “pissed off,” she says, when she sees people in her audience checking their phones (to say nothing of her calling out an audience member in Verona, Italy, who was filming her with a professional camera on a tripod). “People would rather have a photo to show to people than actually enjoy a moment,” she says. “It’s weird—when I first started out, nearly 10 years ago, no one had their phones out. I’d go onstage to people. Now I go onstage to 18,000 phones. It’s pretty because of the lights . . . but no one is actually looking at the world—they’re on their phones all the time. Also, this Wi-Fi, you watch, it’s going to fuckin’ kill our insides . . . it’s just floating around. I’m telling you, we’ll find out in 25 years.” We order no alcoholic beverages. She says she used to be a “massive drinker,” but since her vocal surgery and the birth of her son, she stopped smoking and now might have two glasses of wine a week. “Having a hangover with a child is torture,” she says. “Just imagine an annoying three-year-old who knows something’s wrong; it’s hell.” She says she’s never had any interest in drugs, because when she was younger someone her family knew died of a heroin overdose and it “freaked the fuckin’ life out of me. I’m too scared to ever take drugs. I used to love to be drunk, but as I got more famous I would wake up the next morning and think, What the fuck did I say and who the fuck did I say it to? I never had blackouts, but when you’re drunk and you go to a party, you’ll talk to anyone. I can see from an outsider’s perspective that I will never write songs as good as the ones that are on 21, but I’m not as indulgent as I was then, and I don’t have time to fall apart like I did then. I was completely off my face writing that album, and a drunk tongue is an honest one. I would drink two bottles of wine, and I would chain-smoke. Then I’d write the lyrics down and the next morning think, Fuck, that’s quite good. Then I’d find the melody. But since I’ve had my baby, I’m not as carefree as I used to be. I’m scared of a lot of things now because I don’t want to die; I want to be around for my kid. I’m very cautious, whereas I was never cautious before. I would never have done anything before that would make me die, but now I go out of my way to avoid anything that is remotely dangerous—like walking along a sidewalk. I’d rather walk on the grass or a lawn, rather than the pavement, in case a car crashes into me. Also, I don’t go out as much as I used to. I go to very civilized dinners, and I’ll go to work things when I have to, but you have to literally drag me onto a fuckin’ red carpet.” She tells me she considers herself a “wailer” more than a singer, and that the singers she likes are “incredible—they’re on the next level,” like her early influences Etta James and Ella Fitzgerald. She adores Beyoncé, who she says has been a constant in her life since she was 11 and heard “No, No, No” from Destiny’s Child. “She’s my Michael Jackson,” Adele says. The other two women she says she reveres are Stevie Nicks—”I can’t find the words to describe how much I love her”—and Bette Midler. About Bette, she says, “I’ve obviously loved her for years. I like her humor, but she’s a fucking great singer, a really amazing singer. When I watched her show, I felt like I was really watching the last legend. No one’s made like that anymore.” Both women return the admiration: “Adele is major,” says Stevie Nicks. “It’s very satisfying to see her success. [Her song] ‘When We Were Young’ makes me sob. I think she can do anything. And I think she will do everything.” And Bette, who had been at Adele’s show at Staples the previous night, told me, “Adele’s voice is so beautiful, so flexible, and she can do anything with it. The main thing is she hits you where you live. She is utterly hilarious and her shows are a riot—not just because of the great music and musicianship but her complete connection with her audience and her ability to make them laugh and then turn around and reduce them to tears.” Adele says, “Every day as I get older, I appreciate women more and more. When you’re between the ages of 15 and 19, maybe you see women as competition, as opposed to lifesavers and people that hold your hand and have experienced pretty much everything that you have. So the more women in my life the better.” As for her relationship with Simon (who runs the nonprofit Drop4Drop), Adele attributes their age gap (he’s 14 years older than she is) as the reason he is so comfortable with her success. “I have no desire to be with anyone in show business, because we all have egos. He’s not threatened by any stage of my life that I’m going for, and that’s an amazing thing. It’s the most serious relationship I’ve ever been in; we’ve got a child together and we live together. After releasing my first album, all the other people I ever was with were so insecure about themselves—they couldn’t handle it at all. When I try to describe this to my friends they don’t always get it, because they go out with people that are our age, but Simon is already who he is, and I’m still becoming who I’m going to be. He’s confident. He’s perfect.” I ask why, during her onstage “chat” (her word), she refers to her songs as “miserable” when they actually are more reflective. She says, “The music I’ve always been drawn to is sad. I’ve always been pretty melancholy. Obviously not as much in my real life as the songs are, but I have a very dark side. I’m very available to depression. I can slip in and out of it quite easily. It started when my granddad died, when I was about 10, and while I never had a suicidal thought, I have been in therapy, lots. But,” she emphasizes, “I haven’t had that feeling since I had my son and snapped out of my postpartum depression.” What about all the old boyfriends who were the subjects of her earlier heartbreak songs? “There’s a reason I loved them once,” she says, “and for a while hate got in the way. But I’m an adult now, I’m a mother, and I’m a lot less bitchy. They were interesting people, and while we’re not friends and I don’t see them regularly, I have seen them and it’s all fine.” I ask why she was a reluctant latecomer to music-streaming services, and she says, “I wanted to prove a point. Everyone said streaming is the future. Well, if it is in the future, we’re not in the fuckin’ future yet. I wanted to prove the point that, if people like a record enough, they will go out and buy it. And they did.” She says she’s in this for “the long haul,” and while she might never do a long tour like this again, perhaps, one day, she would do 20 shows in one place, like Las Vegas. And that she would love to be on Broadway, specifically playing the part of Mama Rose in Gypsy. But, she says, “like when I’m 50.” As we wind down and she prepares to go back home to Simon and their son, she says, “I want to sing these songs when I’m 70 fuckin’ years old. To have a song, any song—let alone I’ve had four or five that have resonated with people that much—that’s why I make music.” But, she adds, “all of my relationships are more important to me than any tour I’ll ever do. If my relationship with Simon or my relationship with Angelo started to flounder a bit now, I would pull out of my tour. My life is more important to me than anything I’m doing because how the fuck am I supposed to write a record if I don’t have a life? If I don’t have a real life, then it’s game over anyway.” Condé Nast © Condé Nast. Use of this site constitutes acceptance of our User Agreement (effective January 2, 2014) and Privacy Policy (effective January 2, 2014). Your CA Privacy Rights. The material on this site may not be reproduced, distributed, transmitted, cached or otherwise used, except with the prior written permission of Condé Nast. CN Entertainment Ad Choices '"
      ]
     },
     "execution_count": 57,
     "metadata": {},
     "output_type": "execute_result"
    }
   ],
   "source": [
    "get_text(\"https://www.vanityfair.com/culture/2016/10/adele-cover-story\")"
   ]
  },
  {
   "cell_type": "code",
   "execution_count": 99,
   "metadata": {},
   "outputs": [],
   "source": []
  },
  {
   "cell_type": "code",
   "execution_count": null,
   "metadata": {},
   "outputs": [],
   "source": []
  }
 ],
 "metadata": {
  "kernelspec": {
   "display_name": "Python [default]",
   "language": "python",
   "name": "python3"
  },
  "language_info": {
   "codemirror_mode": {
    "name": "ipython",
    "version": 3
   },
   "file_extension": ".py",
   "mimetype": "text/x-python",
   "name": "python",
   "nbconvert_exporter": "python",
   "pygments_lexer": "ipython3",
   "version": "3.5.2"
  }
 },
 "nbformat": 4,
 "nbformat_minor": 2
}
